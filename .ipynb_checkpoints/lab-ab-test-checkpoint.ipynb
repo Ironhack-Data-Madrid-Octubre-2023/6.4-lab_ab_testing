{
 "cells": [
  {
   "cell_type": "markdown",
   "id": "c92ba6e0",
   "metadata": {},
   "source": [
    "# AB-Testing"
   ]
  },
  {
   "cell_type": "markdown",
   "id": "1d83668e",
   "metadata": {
    "toc": true
   },
   "source": [
    "<h1>Table of Contents<span class=\"tocSkip\"></span></h1>\n",
    "<div class=\"toc\"><ul class=\"toc-item\"><li><span><a href=\"#AB-Testing\" data-toc-modified-id=\"AB-Testing-1\"><span class=\"toc-item-num\">1&nbsp;&nbsp;</span>AB-Testing</a></span><ul class=\"toc-item\"><li><span><a href=\"#Análisis-Frecuentista\" data-toc-modified-id=\"Análisis-Frecuentista-1.1\"><span class=\"toc-item-num\">1.1&nbsp;&nbsp;</span>Análisis Frecuentista</a></span><ul class=\"toc-item\"><li><span><a href=\"#Retenidos-Día-1\" data-toc-modified-id=\"Retenidos-Día-1-1.1.1\"><span class=\"toc-item-num\">1.1.1&nbsp;&nbsp;</span>Retenidos Día 1</a></span></li><li><span><a href=\"#Retenidos-Día-7\" data-toc-modified-id=\"Retenidos-Día-7-1.1.2\"><span class=\"toc-item-num\">1.1.2&nbsp;&nbsp;</span>Retenidos Día 7</a></span></li></ul></li><li><span><a href=\"#Análisis-Bayesiano\" data-toc-modified-id=\"Análisis-Bayesiano-1.2\"><span class=\"toc-item-num\">1.2&nbsp;&nbsp;</span>Análisis Bayesiano</a></span><ul class=\"toc-item\"><li><span><a href=\"#Retenidos-Día-1\" data-toc-modified-id=\"Retenidos-Día-1-1.2.1\"><span class=\"toc-item-num\">1.2.1&nbsp;&nbsp;</span>Retenidos Día 1</a></span></li><li><span><a href=\"#Retenidos-Día-7\" data-toc-modified-id=\"Retenidos-Día-7-1.2.2\"><span class=\"toc-item-num\">1.2.2&nbsp;&nbsp;</span>Retenidos Día 7</a></span></li></ul></li><li><span><a href=\"#AB-Testing-Bayesiano\" data-toc-modified-id=\"AB-Testing-Bayesiano-1.3\"><span class=\"toc-item-num\">1.3&nbsp;&nbsp;</span>AB Testing Bayesiano</a></span><ul class=\"toc-item\"><li><span><a href=\"#Retenidos-Día-1\" data-toc-modified-id=\"Retenidos-Día-1-1.3.1\"><span class=\"toc-item-num\">1.3.1&nbsp;&nbsp;</span>Retenidos Día 1</a></span></li><li><span><a href=\"#Retenidos-Día-7\" data-toc-modified-id=\"Retenidos-Día-7-1.3.2\"><span class=\"toc-item-num\">1.3.2&nbsp;&nbsp;</span>Retenidos Día 7</a></span></li></ul></li><li><span><a href=\"#Conclusiones\" data-toc-modified-id=\"Conclusiones-1.4\"><span class=\"toc-item-num\">1.4&nbsp;&nbsp;</span>Conclusiones</a></span></li></ul></li></ul></div>"
   ]
  },
  {
   "cell_type": "markdown",
   "id": "26f11a1a",
   "metadata": {},
   "source": [
    "Imaginad que somos los cientificos de datos de la empresa de videojuegos Tactile Entertainment. Los desarrolladores del juego Cookie Cats pretenden introducir un cambio en el juego para aumentar la retencion de los jugadores. En cierto nivel del juego los jugadores se encuentran una puerta que les obliga a esperar o a pagar la app. Actualmente la puerta se encuentra en nivel 30 y se pretende pasar al nivel 40, para comprobar la retencion a 1 y 7 dias. Antes de realizar el cambio definitivo en el juego se raliza un test AB.\n",
    "\n",
    "Los datos estan alojados en `data/cookie_cats.csv`. Nuestro grupo de control sera la version actual `gate_30` y el grupo de tratamiento sera la version `gate_40`. Debemos realizar el test para 1 dia de retencion `retention_1` y para 7 dias `retention_7`."
   ]
  },
  {
   "cell_type": "code",
   "execution_count": 7,
   "id": "e0020113",
   "metadata": {},
   "outputs": [],
   "source": [
    "# %pip install statsmodels"
   ]
  },
  {
   "cell_type": "code",
   "execution_count": 157,
   "id": "ac3b2f52",
   "metadata": {},
   "outputs": [],
   "source": [
    "# librerias\n",
    "\n",
    "import numpy as np\n",
    "import pandas as pd\n",
    "import pylab as plt\n",
    "import seaborn as sns\n",
    "import scipy.stats as stats\n",
    "import statsmodels.stats.api as sms\n",
    "\n",
    "from bayes import *\n",
    "from scipy.optimize import fsolve\n",
    "from scipy.stats import norm, sem, bernoulli, beta\n",
    "from statsmodels.stats.proportion import proportions_ztest, proportion_confint\n",
    "\n",
    "import warnings\n",
    "warnings.filterwarnings('ignore')\n",
    "\n",
    "%matplotlib inline"
   ]
  },
  {
   "cell_type": "code",
   "execution_count": 158,
   "id": "7fe515c2",
   "metadata": {},
   "outputs": [
    {
     "data": {
      "text/plain": [
       "(90189, 5)"
      ]
     },
     "metadata": {},
     "output_type": "display_data"
    },
    {
     "data": {
      "text/html": [
       "<div>\n",
       "<style scoped>\n",
       "    .dataframe tbody tr th:only-of-type {\n",
       "        vertical-align: middle;\n",
       "    }\n",
       "\n",
       "    .dataframe tbody tr th {\n",
       "        vertical-align: top;\n",
       "    }\n",
       "\n",
       "    .dataframe thead th {\n",
       "        text-align: right;\n",
       "    }\n",
       "</style>\n",
       "<table border=\"1\" class=\"dataframe\">\n",
       "  <thead>\n",
       "    <tr style=\"text-align: right;\">\n",
       "      <th></th>\n",
       "      <th>userid</th>\n",
       "      <th>version</th>\n",
       "      <th>sum_gamerounds</th>\n",
       "      <th>retention_1</th>\n",
       "      <th>retention_7</th>\n",
       "    </tr>\n",
       "  </thead>\n",
       "  <tbody>\n",
       "    <tr>\n",
       "      <th>0</th>\n",
       "      <td>116</td>\n",
       "      <td>gate_30</td>\n",
       "      <td>3</td>\n",
       "      <td>False</td>\n",
       "      <td>False</td>\n",
       "    </tr>\n",
       "    <tr>\n",
       "      <th>1</th>\n",
       "      <td>337</td>\n",
       "      <td>gate_30</td>\n",
       "      <td>38</td>\n",
       "      <td>True</td>\n",
       "      <td>False</td>\n",
       "    </tr>\n",
       "  </tbody>\n",
       "</table>\n",
       "</div>"
      ],
      "text/plain": [
       "   userid  version  sum_gamerounds  retention_1  retention_7\n",
       "0     116  gate_30               3        False        False\n",
       "1     337  gate_30              38         True        False"
      ]
     },
     "execution_count": 158,
     "metadata": {},
     "output_type": "execute_result"
    }
   ],
   "source": [
    "# Se importan los datos\n",
    "\n",
    "df = pd.read_csv('data/cookie_cats.csv')\n",
    "display(df.shape)\n",
    "df.head(2)"
   ]
  },
  {
   "cell_type": "markdown",
   "id": "5f31b153",
   "metadata": {},
   "source": [
    "___\n",
    "## Análisis Frecuentista\n",
    "### Retenidos Día 1\n",
    "     retention_1:"
   ]
  },
  {
   "cell_type": "code",
   "execution_count": 159,
   "id": "8f873c01",
   "metadata": {},
   "outputs": [],
   "source": [
    "seed = 42"
   ]
  },
  {
   "cell_type": "code",
   "execution_count": 160,
   "id": "46103a24",
   "metadata": {},
   "outputs": [
    {
     "data": {
      "text/html": [
       "<style type=\"text/css\">\n",
       "</style>\n",
       "<table id=\"T_aaac6\">\n",
       "  <thead>\n",
       "    <tr>\n",
       "      <th class=\"blank level0\" >&nbsp;</th>\n",
       "      <th id=\"T_aaac6_level0_col0\" class=\"col_heading level0 col0\" >Retention Rate</th>\n",
       "      <th id=\"T_aaac6_level0_col1\" class=\"col_heading level0 col1\" >St. Dev.</th>\n",
       "      <th id=\"T_aaac6_level0_col2\" class=\"col_heading level0 col2\" >S.E.M.</th>\n",
       "    </tr>\n",
       "    <tr>\n",
       "      <th class=\"index_name level0\" >version</th>\n",
       "      <th class=\"blank col0\" >&nbsp;</th>\n",
       "      <th class=\"blank col1\" >&nbsp;</th>\n",
       "      <th class=\"blank col2\" >&nbsp;</th>\n",
       "    </tr>\n",
       "  </thead>\n",
       "  <tbody>\n",
       "    <tr>\n",
       "      <th id=\"T_aaac6_level0_row0\" class=\"row_heading level0 row0\" >gate_30</th>\n",
       "      <td id=\"T_aaac6_row0_col0\" class=\"data row0 col0\" >0.4482</td>\n",
       "      <td id=\"T_aaac6_row0_col1\" class=\"data row0 col1\" >0.4973</td>\n",
       "      <td id=\"T_aaac6_row0_col2\" class=\"data row0 col2\" >0.0024</td>\n",
       "    </tr>\n",
       "    <tr>\n",
       "      <th id=\"T_aaac6_level0_row1\" class=\"row_heading level0 row1\" >gate_40</th>\n",
       "      <td id=\"T_aaac6_row1_col0\" class=\"data row1 col0\" >0.4423</td>\n",
       "      <td id=\"T_aaac6_row1_col1\" class=\"data row1 col1\" >0.4967</td>\n",
       "      <td id=\"T_aaac6_row1_col2\" class=\"data row1 col2\" >0.0023</td>\n",
       "    </tr>\n",
       "  </tbody>\n",
       "</table>\n"
      ],
      "text/plain": [
       "<pandas.io.formats.style.Styler at 0x29cca6d38d0>"
      ]
     },
     "execution_count": 160,
     "metadata": {},
     "output_type": "execute_result"
    }
   ],
   "source": [
    "# Observación preeliminar de los datos Ctrl.\n",
    "\n",
    "tasas_retencion = pd.pivot_table(df,\n",
    "                                 index = 'version',\n",
    "                                 values = 'retention_1',\n",
    "                                 aggfunc = [np.mean, \n",
    "                                            lambda x: np.std(x, ddof = 0),\n",
    "                                            lambda x: stats.sem(x, ddof = 0)])\n",
    "\n",
    "tasas_retencion.columns = ['Retention Rate', 'St. Dev.', 'S.E.M.']\n",
    "tasas_retencion.style.format('{:.4f}')"
   ]
  },
  {
   "cell_type": "code",
   "execution_count": 161,
   "id": "f1d358aa",
   "metadata": {},
   "outputs": [],
   "source": [
    "ctrl_sam = df[df['version'] == 'gate_30']['retention_1'].sample(n = 42000, random_state = seed)\n",
    "trtm_sam = df[df['version'] == 'gate_40']['retention_1'].sample(n = 42000, random_state = seed)"
   ]
  },
  {
   "cell_type": "code",
   "execution_count": 162,
   "id": "cac01e81",
   "metadata": {},
   "outputs": [
    {
     "data": {
      "text/plain": [
       "[(42000,), (42000,)]"
      ]
     },
     "execution_count": 162,
     "metadata": {},
     "output_type": "execute_result"
    }
   ],
   "source": [
    "[ctrl_sam.shape, trtm_sam.shape]"
   ]
  },
  {
   "cell_type": "code",
   "execution_count": 163,
   "id": "6ec374bc",
   "metadata": {},
   "outputs": [],
   "source": [
    "# jugadores total\n",
    "jugadores = [ctrl_sam.shape[0], trtm_sam.shape[0]]\n",
    "\n",
    "# jugadores retenidos día 1\n",
    "reten_1 = [sum(ctrl_sam), sum(trtm_sam)]"
   ]
  },
  {
   "cell_type": "code",
   "execution_count": 164,
   "id": "0d5d56d8",
   "metadata": {},
   "outputs": [],
   "source": [
    "z_score, p_value = proportions_ztest(reten_1, \n",
    "                                     nobs = jugadores)"
   ]
  },
  {
   "cell_type": "code",
   "execution_count": 165,
   "id": "43b85e52",
   "metadata": {},
   "outputs": [],
   "source": [
    "(ctrl_a, trtm_a), (ctrl_b, trtm_b) = proportion_confint(reten_1, \n",
    "                                                        nobs = jugadores,\n",
    "                                                        alpha = 0.05)"
   ]
  },
  {
   "cell_type": "code",
   "execution_count": 166,
   "id": "dda8d4ea",
   "metadata": {},
   "outputs": [
    {
     "name": "stdout",
     "output_type": "stream",
     "text": [
      "El estadístico \"Z-score\" es: 1.90, y hemos obtenido un P-valor de: 0.058.        \n",
      "Es False que P-value < 0.05, de manera que no podemos descartar la Hipótesis nula.        \n",
      "El intervalo de confianza 95% para grupo Control: [0.444, 0.454]        \n",
      "El intervalo de confianza 95% para grupo tratado: [0.438, 0.447]\n"
     ]
    }
   ],
   "source": [
    "print(f'El estadístico \"Z-score\" es: {z_score:.2f}, y hemos obtenido un P-valor de: {p_value:.3f}.\\\n",
    "        \\nEs {p_value < 0.05} que P-value < 0.05, de manera que no podemos descartar la Hipótesis nula.\\\n",
    "        \\nEl intervalo de confianza 95% para grupo Control: [{ctrl_a:.3f}, {ctrl_b:.3f}]\\\n",
    "        \\nEl intervalo de confianza 95% para grupo tratado: [{trtm_a:.3f}, {trtm_b:.3f}]')"
   ]
  },
  {
   "cell_type": "markdown",
   "id": "696b6414",
   "metadata": {},
   "source": [
    "### Retenidos Día 7\n",
    "     retention_7:"
   ]
  },
  {
   "cell_type": "code",
   "execution_count": 167,
   "id": "116347ef",
   "metadata": {},
   "outputs": [
    {
     "data": {
      "text/html": [
       "<style type=\"text/css\">\n",
       "</style>\n",
       "<table id=\"T_a6e6f\">\n",
       "  <thead>\n",
       "    <tr>\n",
       "      <th class=\"blank level0\" >&nbsp;</th>\n",
       "      <th id=\"T_a6e6f_level0_col0\" class=\"col_heading level0 col0\" >Retention Rate</th>\n",
       "      <th id=\"T_a6e6f_level0_col1\" class=\"col_heading level0 col1\" >St. Dev.</th>\n",
       "      <th id=\"T_a6e6f_level0_col2\" class=\"col_heading level0 col2\" >S.E.M.</th>\n",
       "    </tr>\n",
       "    <tr>\n",
       "      <th class=\"index_name level0\" >version</th>\n",
       "      <th class=\"blank col0\" >&nbsp;</th>\n",
       "      <th class=\"blank col1\" >&nbsp;</th>\n",
       "      <th class=\"blank col2\" >&nbsp;</th>\n",
       "    </tr>\n",
       "  </thead>\n",
       "  <tbody>\n",
       "    <tr>\n",
       "      <th id=\"T_a6e6f_level0_row0\" class=\"row_heading level0 row0\" >gate_30</th>\n",
       "      <td id=\"T_a6e6f_row0_col0\" class=\"data row0 col0\" >0.1902</td>\n",
       "      <td id=\"T_a6e6f_row0_col1\" class=\"data row0 col1\" >0.3925</td>\n",
       "      <td id=\"T_a6e6f_row0_col2\" class=\"data row0 col2\" >0.0019</td>\n",
       "    </tr>\n",
       "    <tr>\n",
       "      <th id=\"T_a6e6f_level0_row1\" class=\"row_heading level0 row1\" >gate_40</th>\n",
       "      <td id=\"T_a6e6f_row1_col0\" class=\"data row1 col0\" >0.1820</td>\n",
       "      <td id=\"T_a6e6f_row1_col1\" class=\"data row1 col1\" >0.3858</td>\n",
       "      <td id=\"T_a6e6f_row1_col2\" class=\"data row1 col2\" >0.0018</td>\n",
       "    </tr>\n",
       "  </tbody>\n",
       "</table>\n"
      ],
      "text/plain": [
       "<pandas.io.formats.style.Styler at 0x29ccc4439d0>"
      ]
     },
     "execution_count": 167,
     "metadata": {},
     "output_type": "execute_result"
    }
   ],
   "source": [
    "# Observación preeliminar de los datos Ctrl.\n",
    "\n",
    "tasas_retencion = pd.pivot_table(df,\n",
    "                                 index = 'version',\n",
    "                                 values = 'retention_7',\n",
    "                                 aggfunc = [np.mean, \n",
    "                                            lambda x: np.std(x, ddof = 0),\n",
    "                                            lambda x: stats.sem(x, ddof = 0)])\n",
    "\n",
    "tasas_retencion.columns = ['Retention Rate', 'St. Dev.', 'S.E.M.']\n",
    "tasas_retencion.style.format('{:.4f}')"
   ]
  },
  {
   "cell_type": "code",
   "execution_count": 168,
   "id": "bb3aac7b",
   "metadata": {},
   "outputs": [],
   "source": [
    "ctrl_sam = df[df['version'] == 'gate_30']['retention_7'].sample(n = 42000, random_state = seed)\n",
    "trtm_sam = df[df['version'] == 'gate_40']['retention_7'].sample(n = 42000, random_state = seed)"
   ]
  },
  {
   "cell_type": "code",
   "execution_count": 169,
   "id": "6174ae8d",
   "metadata": {},
   "outputs": [
    {
     "data": {
      "text/plain": [
       "[(42000,), (42000,)]"
      ]
     },
     "execution_count": 169,
     "metadata": {},
     "output_type": "execute_result"
    }
   ],
   "source": [
    "[ctrl_sam.shape, trtm_sam.shape]"
   ]
  },
  {
   "cell_type": "code",
   "execution_count": 170,
   "id": "885f1a39",
   "metadata": {},
   "outputs": [],
   "source": [
    "# jugadores total\n",
    "jugadores = [ctrl_sam.shape[0], trtm_sam.shape[0]]\n",
    "\n",
    "# jugadores retenidos día 7\n",
    "reten_7 = [sum(ctrl_sam), sum(trtm_sam)]\n",
    "\n",
    "z_score, p_value = proportions_ztest(reten_7, \n",
    "                                     nobs = jugadores)\n",
    "\n",
    "(ctrl_a, trtm_a), (ctrl_b, trtm_b) = proportion_confint(reten_7, \n",
    "                                                        nobs = jugadores,\n",
    "                                                        alpha = 0.05)"
   ]
  },
  {
   "cell_type": "code",
   "execution_count": 171,
   "id": "d0c1849f",
   "metadata": {},
   "outputs": [
    {
     "name": "stdout",
     "output_type": "stream",
     "text": [
      "El estadístico \"Z-score\" es: 2.98, y hemos obtenido un P-valor de: 0.003.        \n",
      "Es True que P-value < 0.05, de manera que sí podemos descartar la Hipótesis nula.        \n",
      "El intervalo de confianza 95% para grupo Control: [0.187, 0.194]        \n",
      "El intervalo de confianza 95% para grupo tratado: [0.179, 0.186]\n"
     ]
    }
   ],
   "source": [
    "print(f'El estadístico \"Z-score\" es: {z_score:.2f}, y hemos obtenido un P-valor de: {p_value:.3f}.\\\n",
    "        \\nEs {p_value < 0.05} que P-value < 0.05, de manera que sí podemos descartar la Hipótesis nula.\\\n",
    "        \\nEl intervalo de confianza 95% para grupo Control: [{ctrl_a:.3f}, {ctrl_b:.3f}]\\\n",
    "        \\nEl intervalo de confianza 95% para grupo tratado: [{trtm_a:.3f}, {trtm_b:.3f}]')"
   ]
  },
  {
   "cell_type": "markdown",
   "id": "679209d3",
   "metadata": {},
   "source": [
    "***\n",
    "## Análisis Bayesiano"
   ]
  },
  {
   "cell_type": "markdown",
   "id": "5e1d1041",
   "metadata": {},
   "source": [
    "##### Se utiliza la Regla de Bayes:\n",
    "\n",
    "$$P(A|B) = \\frac{P(B|A)P(A)}{P(B)}$$\n",
    "\n",
    "\n",
    "donde:\n",
    "\n",
    "+ $P(A|B) :=$ A posteriori\n",
    "+ $P(A) :=$ A priori\n",
    "+ $P(B|A) :=$ Verosimilitud (likelihood)\n",
    "+ $P(B) :=$ Marginal de B\n",
    "\n",
    "\n",
    "En realidad:\n",
    "$$P(B) = \\sum_{\\Omega} P(B|A)P(A)$$"
   ]
  },
  {
   "cell_type": "markdown",
   "id": "37bd011a",
   "metadata": {},
   "source": [
    "### Retenidos Día 1\n",
    "     retention_1:"
   ]
  },
  {
   "cell_type": "code",
   "execution_count": 172,
   "id": "e399399a",
   "metadata": {},
   "outputs": [
    {
     "data": {
      "text/html": [
       "<div>\n",
       "<style scoped>\n",
       "    .dataframe tbody tr th:only-of-type {\n",
       "        vertical-align: middle;\n",
       "    }\n",
       "\n",
       "    .dataframe tbody tr th {\n",
       "        vertical-align: top;\n",
       "    }\n",
       "\n",
       "    .dataframe thead th {\n",
       "        text-align: right;\n",
       "    }\n",
       "</style>\n",
       "<table border=\"1\" class=\"dataframe\">\n",
       "  <thead>\n",
       "    <tr style=\"text-align: right;\">\n",
       "      <th></th>\n",
       "      <th></th>\n",
       "      <th>value_counts</th>\n",
       "    </tr>\n",
       "    <tr>\n",
       "      <th>version</th>\n",
       "      <th>retention_1</th>\n",
       "      <th></th>\n",
       "    </tr>\n",
       "  </thead>\n",
       "  <tbody>\n",
       "    <tr>\n",
       "      <th rowspan=\"2\" valign=\"top\">gate_30</th>\n",
       "      <th>False</th>\n",
       "      <td>24666</td>\n",
       "    </tr>\n",
       "    <tr>\n",
       "      <th>True</th>\n",
       "      <td>20034</td>\n",
       "    </tr>\n",
       "    <tr>\n",
       "      <th rowspan=\"2\" valign=\"top\">gate_40</th>\n",
       "      <th>False</th>\n",
       "      <td>25370</td>\n",
       "    </tr>\n",
       "    <tr>\n",
       "      <th>True</th>\n",
       "      <td>20119</td>\n",
       "    </tr>\n",
       "  </tbody>\n",
       "</table>\n",
       "</div>"
      ],
      "text/plain": [
       "                     value_counts\n",
       "version retention_1              \n",
       "gate_30 False               24666\n",
       "        True                20034\n",
       "gate_40 False               25370\n",
       "        True                20119"
      ]
     },
     "execution_count": 172,
     "metadata": {},
     "output_type": "execute_result"
    }
   ],
   "source": [
    "pd.pivot_table(df,\n",
    "               index = ['version'],\n",
    "               values = ['retention_1'],\n",
    "               aggfunc = ['value_counts'])"
   ]
  },
  {
   "cell_type": "code",
   "execution_count": 173,
   "id": "ff9a3674",
   "metadata": {},
   "outputs": [],
   "source": [
    "# A priori: \n",
    "# 50% retención | 50% no retención\n",
    "\n",
    "priori = [1/2, 1/2]"
   ]
  },
  {
   "cell_type": "code",
   "execution_count": 174,
   "id": "2759055e",
   "metadata": {},
   "outputs": [],
   "source": [
    "# Verosimilitudes:\n",
    "# Ctrl: True | False\n",
    "# Trtm: True | False\n",
    "\n",
    "v_ctrl = [20034/44700, 24666/44700]\n",
    "v_trtm = [20119/45489, 25370/45489]"
   ]
  },
  {
   "cell_type": "code",
   "execution_count": 175,
   "id": "901a8b01",
   "metadata": {},
   "outputs": [],
   "source": [
    "def bayes(priori, verosimilitud):\n",
    "    \"\"\"\n",
    "    Calculate the posterior probabilities using Bayes theorem.\n",
    "\n",
    "    Parameters:\n",
    "    - priori (numpy array): Array representing the prior probabilities.\n",
    "    - verosimilitud (numpy array): Array representing the likelihood.\n",
    "\n",
    "    Returns:\n",
    "    - numpy array: Array of posterior probabilities.\n",
    "\n",
    "    The function calculates the posterior probabilities using Bayes' theorem,\n",
    "    where the numerator is the element-wise product of the prior probabilities\n",
    "    and the likelihood, and the denominator is the sum of the numerator across all elements.\n",
    "    The posterior probabilities are then obtained by dividing the numerator by the marginal.\n",
    "    \"\"\"\n",
    "    numerador =  np.multiply(priori, verosimilitud)\n",
    "    \n",
    "    marginal = sum(numerador)\n",
    "    \n",
    "    posteriori = np.divide(numerador, marginal)\n",
    "    \n",
    "    return posteriori"
   ]
  },
  {
   "cell_type": "code",
   "execution_count": 176,
   "id": "4d8af36e",
   "metadata": {},
   "outputs": [],
   "source": [
    "c_true, c_false = bayes(priori, v_ctrl)"
   ]
  },
  {
   "cell_type": "code",
   "execution_count": 177,
   "id": "2cb0726c",
   "metadata": {},
   "outputs": [],
   "source": [
    "t_true, t_false = bayes(priori, v_trtm)"
   ]
  },
  {
   "cell_type": "code",
   "execution_count": 178,
   "id": "51fc423a",
   "metadata": {},
   "outputs": [
    {
     "name": "stdout",
     "output_type": "stream",
     "text": [
      "La probabilidad de que en el grupo Control se produzca retención a día uno es: 0.45,        \n",
      "y la probabilidad de que en el grupo tratado se produzcan retención es: 0.442.        \n",
      "Al contrario, probabilidad de que en el grupo Control no se produzca retención a día uno es 0.55,        \n",
      "y la probabilidad de que en el grupo tratado se produzcan retención es: 0.558.\n"
     ]
    }
   ],
   "source": [
    "print(f'La probabilidad de que en el grupo Control se produzca retención a día uno es: {c_true:.2f},\\\n",
    "        \\ny la probabilidad de que en el grupo tratado se produzcan retención es: {t_true:.3f}.\\\n",
    "        \\nAl contrario, probabilidad de que en el grupo Control no se produzca retención a día uno es {c_false:.2f},\\\n",
    "        \\ny la probabilidad de que en el grupo tratado no se produzcan retención es: {t_false:.3f}.')"
   ]
  },
  {
   "cell_type": "markdown",
   "id": "582a55c6",
   "metadata": {},
   "source": [
    "### Retenidos Día 7\n",
    "     retention_7:"
   ]
  },
  {
   "cell_type": "code",
   "execution_count": 179,
   "id": "f087622c",
   "metadata": {},
   "outputs": [
    {
     "data": {
      "text/html": [
       "<div>\n",
       "<style scoped>\n",
       "    .dataframe tbody tr th:only-of-type {\n",
       "        vertical-align: middle;\n",
       "    }\n",
       "\n",
       "    .dataframe tbody tr th {\n",
       "        vertical-align: top;\n",
       "    }\n",
       "\n",
       "    .dataframe thead th {\n",
       "        text-align: right;\n",
       "    }\n",
       "</style>\n",
       "<table border=\"1\" class=\"dataframe\">\n",
       "  <thead>\n",
       "    <tr style=\"text-align: right;\">\n",
       "      <th></th>\n",
       "      <th></th>\n",
       "      <th>value_counts</th>\n",
       "    </tr>\n",
       "    <tr>\n",
       "      <th>version</th>\n",
       "      <th>retention_7</th>\n",
       "      <th></th>\n",
       "    </tr>\n",
       "  </thead>\n",
       "  <tbody>\n",
       "    <tr>\n",
       "      <th rowspan=\"2\" valign=\"top\">gate_30</th>\n",
       "      <th>False</th>\n",
       "      <td>36198</td>\n",
       "    </tr>\n",
       "    <tr>\n",
       "      <th>True</th>\n",
       "      <td>8502</td>\n",
       "    </tr>\n",
       "    <tr>\n",
       "      <th rowspan=\"2\" valign=\"top\">gate_40</th>\n",
       "      <th>False</th>\n",
       "      <td>37210</td>\n",
       "    </tr>\n",
       "    <tr>\n",
       "      <th>True</th>\n",
       "      <td>8279</td>\n",
       "    </tr>\n",
       "  </tbody>\n",
       "</table>\n",
       "</div>"
      ],
      "text/plain": [
       "                     value_counts\n",
       "version retention_7              \n",
       "gate_30 False               36198\n",
       "        True                 8502\n",
       "gate_40 False               37210\n",
       "        True                 8279"
      ]
     },
     "execution_count": 179,
     "metadata": {},
     "output_type": "execute_result"
    }
   ],
   "source": [
    "pd.pivot_table(df,\n",
    "               index = ['version'],\n",
    "               values = ['retention_7'],\n",
    "               aggfunc = ['value_counts'])"
   ]
  },
  {
   "cell_type": "code",
   "execution_count": 180,
   "id": "54dfa3fa",
   "metadata": {},
   "outputs": [],
   "source": [
    "# A priori: \n",
    "# 50% retención | 50% no retención\n",
    "\n",
    "priori = [1/2, 1/2]\n",
    "\n",
    "# Verosimilitudes:\n",
    "# Ctrl: True | False\n",
    "# Trtm: True | False\n",
    "\n",
    "v_ctrl = [8502/44700, 36198/44700]\n",
    "v_trtm = [8279/45489, 37210/45489]\n",
    "\n",
    "c_true, c_false = bayes(priori, v_ctrl)\n",
    "t_true, t_false = bayes(priori, v_trtm)"
   ]
  },
  {
   "cell_type": "code",
   "execution_count": 181,
   "id": "ed24cdb2",
   "metadata": {},
   "outputs": [
    {
     "name": "stdout",
     "output_type": "stream",
     "text": [
      "La probabilidad de que en el grupo Control se produzca retención a día uno es: 0.19,        \n",
      "y la probabilidad de que en el grupo tratado se produzcan retención es: 0.182.        \n",
      "Al contrario, probabilidad de que en el grupo Control no se produzca retención a día uno es 0.81,        \n",
      "y la probabilidad de que en el grupo tratado se produzcan retención es: 0.818.\n"
     ]
    }
   ],
   "source": [
    "print(f'La probabilidad de que en el grupo Control se produzca retención a día uno es: {c_true:.2f},\\\n",
    "        \\ny la probabilidad de que en el grupo tratado se produzcan retención es: {t_true:.3f}.\\\n",
    "        \\nAl contrario, probabilidad de que en el grupo Control no se produzca retención a día uno es {c_false:.2f},\\\n",
    "        \\ny la probabilidad de que en el grupo tratado se produzcan retención es: {t_false:.3f}.')"
   ]
  },
  {
   "cell_type": "markdown",
   "id": "fc3666b1",
   "metadata": {},
   "source": [
    "***\n",
    "## AB Testing Bayesiano\n",
    "### Retenidos Día 1\n",
    "     retention_1:"
   ]
  },
  {
   "cell_type": "code",
   "execution_count": 182,
   "id": "538f7ebb",
   "metadata": {},
   "outputs": [
    {
     "data": {
      "text/html": [
       "<div>\n",
       "<style scoped>\n",
       "    .dataframe tbody tr th:only-of-type {\n",
       "        vertical-align: middle;\n",
       "    }\n",
       "\n",
       "    .dataframe tbody tr th {\n",
       "        vertical-align: top;\n",
       "    }\n",
       "\n",
       "    .dataframe thead th {\n",
       "        text-align: right;\n",
       "    }\n",
       "</style>\n",
       "<table border=\"1\" class=\"dataframe\">\n",
       "  <thead>\n",
       "    <tr style=\"text-align: right;\">\n",
       "      <th></th>\n",
       "      <th></th>\n",
       "      <th>value_counts</th>\n",
       "    </tr>\n",
       "    <tr>\n",
       "      <th>version</th>\n",
       "      <th>retention_1</th>\n",
       "      <th></th>\n",
       "    </tr>\n",
       "  </thead>\n",
       "  <tbody>\n",
       "    <tr>\n",
       "      <th rowspan=\"2\" valign=\"top\">gate_30</th>\n",
       "      <th>False</th>\n",
       "      <td>24666</td>\n",
       "    </tr>\n",
       "    <tr>\n",
       "      <th>True</th>\n",
       "      <td>20034</td>\n",
       "    </tr>\n",
       "    <tr>\n",
       "      <th rowspan=\"2\" valign=\"top\">gate_40</th>\n",
       "      <th>False</th>\n",
       "      <td>25370</td>\n",
       "    </tr>\n",
       "    <tr>\n",
       "      <th>True</th>\n",
       "      <td>20119</td>\n",
       "    </tr>\n",
       "  </tbody>\n",
       "</table>\n",
       "</div>"
      ],
      "text/plain": [
       "                     value_counts\n",
       "version retention_1              \n",
       "gate_30 False               24666\n",
       "        True                20034\n",
       "gate_40 False               25370\n",
       "        True                20119"
      ]
     },
     "execution_count": 182,
     "metadata": {},
     "output_type": "execute_result"
    }
   ],
   "source": [
    "# Los datos son conocidos:\n",
    "# jugadores totales y retenidos para los grupos Ctrl y Tratado\n",
    "\n",
    "pd.pivot_table(df,\n",
    "               index = ['version'],\n",
    "               values = ['retention_1'],\n",
    "               aggfunc = ['value_counts'])"
   ]
  },
  {
   "cell_type": "code",
   "execution_count": 183,
   "id": "5501256f",
   "metadata": {},
   "outputs": [
    {
     "name": "stdout",
     "output_type": "stream",
     "text": [
      "Tasas de retención día 1:\n",
      "Control: 0.4404141660621249,\n",
      "Tratamiento: 0.450089485458613\n"
     ]
    }
   ],
   "source": [
    "# jugar / retener\n",
    "\n",
    "jug_ctrl, ret_ctrl = 45489, 20034\n",
    "jug_trtm, ret_trtm = 44700, 20119\n",
    "\n",
    "CR_ctrl = ret_ctrl / jug_ctrl\n",
    "CR_trtm = ret_trtm / jug_trtm\n",
    "\n",
    "print(f'Tasas de retención día 1:\\nControl: {CR_ctrl},\\nTratamiento: {CR_trtm}')"
   ]
  },
  {
   "cell_type": "code",
   "execution_count": 184,
   "id": "20a47e4d",
   "metadata": {},
   "outputs": [],
   "source": [
    "beta_ctrl = beta(1 + ret_ctrl, 1 + jug_ctrl-ret_ctrl)\n",
    "beta_trtm = beta(1 + ret_trtm, 1 + jug_trtm-ret_trtm)"
   ]
  },
  {
   "cell_type": "code",
   "execution_count": 185,
   "id": "74af03cd",
   "metadata": {},
   "outputs": [
    {
     "data": {
      "text/plain": [
       "(0.44041678573783827, 0.45009171849134266)"
      ]
     },
     "execution_count": 185,
     "metadata": {},
     "output_type": "execute_result"
    }
   ],
   "source": [
    "beta_ctrl.mean(), beta_trtm.mean()"
   ]
  },
  {
   "cell_type": "code",
   "execution_count": 186,
   "id": "39727416",
   "metadata": {},
   "outputs": [
    {
     "data": {
      "image/png": "[encoded data removed]",
      "text/plain": [
       "<Figure size 600x400 with 1 Axes>"
      ]
     },
     "metadata": {
      "needs_background": "light"
     },
     "output_type": "display_data"
    }
   ],
   "source": [
    "betas = [beta_ctrl, beta_trtm]\n",
    "nombres = ['Control', 'Tratamiento']\n",
    "x = np.linspace(0.43, 0.465, 1000)\n",
    "cmap = ['#4F0261', '#C50000']\n",
    "\n",
    "fig = plt.figure(facecolor = 'none', \n",
    "                 figsize = (6, 4))\n",
    "ax = fig.add_subplot(111, \n",
    "                     facecolor = 'none')\n",
    "\n",
    "for bet, nom, color in zip(betas, nombres, cmap):\n",
    "    \n",
    "    y = bet.pdf(x)\n",
    "    y_media = bet.mean()\n",
    "    y_std = bet.std()\n",
    "    plt.plot(x, \n",
    "             y, \n",
    "             label = nom, \n",
    "             color = color)\n",
    "    ax.fill_between(x, \n",
    "                    0, \n",
    "                    bet.pdf(x), \n",
    "                    color = color, \n",
    "                    alpha = 0.2)\n",
    "\n",
    "salto = (beta_trtm.mean() + beta_ctrl.mean()) / 2\n",
    "\n",
    "plt.axvline(salto, \n",
    "            color = 'k', \n",
    "            linestyle = '--')\n",
    "\n",
    "ax.legend(facecolor = 'none',\n",
    "          edgecolor = 'none',\n",
    "          title_fontsize = 8,\n",
    "          loc = 'best')\n",
    "\n",
    "plt.show()"
   ]
  },
  {
   "cell_type": "code",
   "execution_count": 187,
   "id": "645a4272",
   "metadata": {},
   "outputs": [
    {
     "data": {
      "text/plain": [
       "0.001732755346060062"
      ]
     },
     "execution_count": 187,
     "metadata": {},
     "output_type": "execute_result"
    }
   ],
   "source": [
    "calc_prob(beta_ctrl, beta_trtm)"
   ]
  },
  {
   "cell_type": "markdown",
   "id": "99063953",
   "metadata": {},
   "source": [
    "### Retenidos Día 7\n",
    "     retention_7:"
   ]
  },
  {
   "cell_type": "code",
   "execution_count": 188,
   "id": "6964529f",
   "metadata": {},
   "outputs": [
    {
     "data": {
      "text/html": [
       "<div>\n",
       "<style scoped>\n",
       "    .dataframe tbody tr th:only-of-type {\n",
       "        vertical-align: middle;\n",
       "    }\n",
       "\n",
       "    .dataframe tbody tr th {\n",
       "        vertical-align: top;\n",
       "    }\n",
       "\n",
       "    .dataframe thead th {\n",
       "        text-align: right;\n",
       "    }\n",
       "</style>\n",
       "<table border=\"1\" class=\"dataframe\">\n",
       "  <thead>\n",
       "    <tr style=\"text-align: right;\">\n",
       "      <th></th>\n",
       "      <th></th>\n",
       "      <th>value_counts</th>\n",
       "    </tr>\n",
       "    <tr>\n",
       "      <th>version</th>\n",
       "      <th>retention_7</th>\n",
       "      <th></th>\n",
       "    </tr>\n",
       "  </thead>\n",
       "  <tbody>\n",
       "    <tr>\n",
       "      <th rowspan=\"2\" valign=\"top\">gate_30</th>\n",
       "      <th>False</th>\n",
       "      <td>36198</td>\n",
       "    </tr>\n",
       "    <tr>\n",
       "      <th>True</th>\n",
       "      <td>8502</td>\n",
       "    </tr>\n",
       "    <tr>\n",
       "      <th rowspan=\"2\" valign=\"top\">gate_40</th>\n",
       "      <th>False</th>\n",
       "      <td>37210</td>\n",
       "    </tr>\n",
       "    <tr>\n",
       "      <th>True</th>\n",
       "      <td>8279</td>\n",
       "    </tr>\n",
       "  </tbody>\n",
       "</table>\n",
       "</div>"
      ],
      "text/plain": [
       "                     value_counts\n",
       "version retention_7              \n",
       "gate_30 False               36198\n",
       "        True                 8502\n",
       "gate_40 False               37210\n",
       "        True                 8279"
      ]
     },
     "execution_count": 188,
     "metadata": {},
     "output_type": "execute_result"
    }
   ],
   "source": [
    "# Los datos son conocidos:\n",
    "# jugadores totales y retenidos para los grupos Ctrl y Tratado\n",
    "\n",
    "pd.pivot_table(df,\n",
    "               index = ['version'],\n",
    "               values = ['retention_7'],\n",
    "               aggfunc = ['value_counts'])"
   ]
  },
  {
   "cell_type": "code",
   "execution_count": 189,
   "id": "93afb0f8",
   "metadata": {},
   "outputs": [
    {
     "name": "stdout",
     "output_type": "stream",
     "text": [
      "Tasas de retención día 7:\n",
      "Control: 0.19020134228187918,\n",
      "Tratamiento: 0.18200004396667327\n"
     ]
    }
   ],
   "source": [
    "# jugar / retener\n",
    "\n",
    "jug_ctrl, ret_ctrl = 44700, 8502\n",
    "jug_trtm, ret_trtm = 45489, 8279\n",
    "\n",
    "CR_ctrl = ret_ctrl / jug_ctrl\n",
    "CR_trtm = ret_trtm / jug_trtm\n",
    "\n",
    "print(f'Tasas de retención día 7:\\nControl: {CR_ctrl},\\nTratamiento: {CR_trtm}')"
   ]
  },
  {
   "cell_type": "code",
   "execution_count": 190,
   "id": "69098e12",
   "metadata": {},
   "outputs": [
    {
     "data": {
      "text/plain": [
       "(0.19021520289919913, 0.18201402475214878)"
      ]
     },
     "execution_count": 190,
     "metadata": {},
     "output_type": "execute_result"
    }
   ],
   "source": [
    "beta_ctrl = beta(1 + ret_ctrl, 1 + jug_ctrl-ret_ctrl)\n",
    "beta_trtm = beta(1 + ret_trtm, 1 + jug_trtm-ret_trtm)\n",
    "\n",
    "beta_ctrl.mean(), beta_trtm.mean()"
   ]
  },
  {
   "cell_type": "code",
   "execution_count": 191,
   "id": "10348552",
   "metadata": {},
   "outputs": [
    {
     "data": {
      "image/png": "[encoded data removed]",
      "text/plain": [
       "<Figure size 600x400 with 1 Axes>"
      ]
     },
     "metadata": {
      "needs_background": "light"
     },
     "output_type": "display_data"
    }
   ],
   "source": [
    "betas = [beta_ctrl, beta_trtm]\n",
    "nombres = ['Control', 'Tratamiento']\n",
    "x = np.linspace(0.175, 0.2, 1000)\n",
    "cmap = ['#4F0261', '#C50000']\n",
    "\n",
    "fig = plt.figure(facecolor = 'none', \n",
    "                 figsize = (6, 4))\n",
    "ax = fig.add_subplot(111, \n",
    "                     facecolor = 'none')\n",
    "\n",
    "for bet, nom, color in zip(betas, nombres, cmap):\n",
    "    \n",
    "    y = bet.pdf(x)\n",
    "    y_media = bet.mean()\n",
    "    y_std = bet.std()\n",
    "    plt.plot(x, \n",
    "             y, \n",
    "             label = nom, \n",
    "             color = color)\n",
    "    ax.fill_between(x, \n",
    "                    0, \n",
    "                    bet.pdf(x), \n",
    "                    color = color, \n",
    "                    alpha = 0.2)\n",
    "\n",
    "salto = (beta_trtm.mean() + beta_ctrl.mean()) / 2\n",
    "\n",
    "plt.axvline(salto, \n",
    "            color = 'k', \n",
    "            linestyle = '--')\n",
    "\n",
    "ax.legend(facecolor = 'none',\n",
    "          edgecolor = 'none',\n",
    "          title_fontsize = 8,\n",
    "          loc = 'best')\n",
    "\n",
    "plt.show()"
   ]
  },
  {
   "cell_type": "code",
   "execution_count": 192,
   "id": "6fbfa0ce",
   "metadata": {},
   "outputs": [
    {
     "data": {
      "text/plain": [
       "0.9992226613235504"
      ]
     },
     "execution_count": 192,
     "metadata": {},
     "output_type": "execute_result"
    }
   ],
   "source": [
    "calc_prob(beta_ctrl, beta_trtm)"
   ]
  },
  {
   "cell_type": "markdown",
   "id": "3e48b12b",
   "metadata": {},
   "source": [
    "## Conclusiones"
   ]
  },
  {
   "cell_type": "markdown",
   "id": "d81ee300",
   "metadata": {},
   "source": [
    "##### retention_1\n",
    "\n",
    "  * AB Testing: P-valor = 0.058 \n",
    "  * Probabilidad de que en el grupo tratado se produzca retención es: 0.442\n",
    "  * AB Testing Bayes: 0.001732755346060062\n",
    "  \n",
    "##### retention_7\n",
    "\n",
    "  * AB Testing: P-valor = 0.003\n",
    "  * Probabilidad de que en el grupo tratado se produzcan retención es: 0.182\n",
    "  * AB Testing Bayes: 0.9992226613235504"
   ]
  },
  {
   "cell_type": "code",
   "execution_count": null,
   "id": "21d2bdbc",
   "metadata": {},
   "outputs": [],
   "source": []
  }
 ],
 "metadata": {
  "finalized": {
   "timestamp": 1642857010293,
   "trusted": true
  },
  "kernelspec": {
   "display_name": "Python 3 (ipykernel)",
   "language": "python",
   "name": "python3"
  },
  "language_info": {
   "codemirror_mode": {
    "name": "ipython",
    "version": 3
   },
   "file_extension": ".py",
   "mimetype": "text/x-python",
   "name": "python",
   "nbconvert_exporter": "python",
   "pygments_lexer": "ipython3",
   "version": "3.11.4"
  },
  "toc": {
   "base_numbering": 1,
   "nav_menu": {},
   "number_sections": true,
   "sideBar": true,
   "skip_h1_title": false,
   "title_cell": "Table of Contents",
   "title_sidebar": "Contents",
   "toc_cell": true,
   "toc_position": {},
   "toc_section_display": true,
   "toc_window_display": false
  },
  "varInspector": {
   "cols": {
    "lenName": 16,
    "lenType": 16,
    "lenVar": 40
   },
   "kernels_config": {
    "python": {
     "delete_cmd_postfix": "",
     "delete_cmd_prefix": "del ",
     "library": "var_list.py",
     "varRefreshCmd": "print(var_dic_list())"
    },
    "r": {
     "delete_cmd_postfix": ") ",
     "delete_cmd_prefix": "rm(",
     "library": "var_list.r",
     "varRefreshCmd": "cat(var_dic_list()) "
    }
   },
   "types_to_exclude": [
    "module",
    "function",
    "builtin_function_or_method",
    "instance",
    "_Feature"
   ],
   "window_display": false
  }
 },
 "nbformat": 4,
 "nbformat_minor": 5
}
