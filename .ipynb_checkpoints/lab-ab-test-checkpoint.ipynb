{
 "cells": [
  {
   "cell_type": "markdown",
   "id": "angry-pearl",
   "metadata": {
    "toc": true
   },
   "source": [
    "<h1>Table of Contents<span class=\"tocSkip\"></span></h1>\n",
    "<div class=\"toc\"><ul class=\"toc-item\"><li><span><a href=\"#AB-Testing\" data-toc-modified-id=\"AB-Testing-1\"><span class=\"toc-item-num\">1&nbsp;&nbsp;</span>AB-Testing</a></span></li></ul></div>"
   ]
  },
  {
   "cell_type": "markdown",
   "id": "c92ba6e0",
   "metadata": {},
   "source": [
    "# AB-Testing\n",
    "\n",
    "![cats](images/cats.jpeg)\n",
    "\n",
    "\n",
    "Imaginad que somos los cientificos de datos de la empresa de videojuegos Tactile Entertainment. Los desarrolladores del juego Cookie Cats pretenden introducir un cambio en el juego para aumentar la retencion de los jugadores. En cierto nivel del juego los jugadores se encuentran una puerta que les obliga a esperar o a pagar la app. Actualmente la puerta se encuentra en nivel 30 y se pretende pasar al nivel 40, para comprobar la retencion a 1 y 7 dias. Antes de realizar el cambio definitivo en el juego se raliza un test AB.\n",
    "\n",
    "Los datos estan alojados en `data/cookie_cats.csv`. Nuestro grupo de control sera la version actual `gate_30` y el grupo de tratamiento sera la version `gate_40`. Debemos realizar el test para 1 dia de retencion `retention_1` y para 7 dias `retention_7`."
   ]
  },
  {
   "cell_type": "code",
   "execution_count": 1,
   "id": "ac3b2f52",
   "metadata": {},
   "outputs": [],
   "source": [
    "# librerias\n",
    "\n",
    "import pandas as pd\n",
    "import numpy as np\n",
    "\n",
    "from statsmodels.stats.proportion import proportions_ztest, proportion_confint\n",
    "from scipy.stats import norm, sem\n",
    "\n",
    "import pylab as plt"
   ]
  },
  {
   "cell_type": "code",
   "execution_count": 89,
   "id": "f2015b12",
   "metadata": {},
   "outputs": [],
   "source": [
    "import sys\n",
    "import bayes"
   ]
  },
  {
   "cell_type": "code",
   "execution_count": 2,
   "id": "7fe515c2",
   "metadata": {},
   "outputs": [
    {
     "data": {
      "text/html": [
       "<div>\n",
       "<style scoped>\n",
       "    .dataframe tbody tr th:only-of-type {\n",
       "        vertical-align: middle;\n",
       "    }\n",
       "\n",
       "    .dataframe tbody tr th {\n",
       "        vertical-align: top;\n",
       "    }\n",
       "\n",
       "    .dataframe thead th {\n",
       "        text-align: right;\n",
       "    }\n",
       "</style>\n",
       "<table border=\"1\" class=\"dataframe\">\n",
       "  <thead>\n",
       "    <tr style=\"text-align: right;\">\n",
       "      <th></th>\n",
       "      <th>userid</th>\n",
       "      <th>version</th>\n",
       "      <th>sum_gamerounds</th>\n",
       "      <th>retention_1</th>\n",
       "      <th>retention_7</th>\n",
       "    </tr>\n",
       "  </thead>\n",
       "  <tbody>\n",
       "    <tr>\n",
       "      <th>0</th>\n",
       "      <td>116</td>\n",
       "      <td>gate_30</td>\n",
       "      <td>3</td>\n",
       "      <td>False</td>\n",
       "      <td>False</td>\n",
       "    </tr>\n",
       "    <tr>\n",
       "      <th>1</th>\n",
       "      <td>337</td>\n",
       "      <td>gate_30</td>\n",
       "      <td>38</td>\n",
       "      <td>True</td>\n",
       "      <td>False</td>\n",
       "    </tr>\n",
       "    <tr>\n",
       "      <th>2</th>\n",
       "      <td>377</td>\n",
       "      <td>gate_40</td>\n",
       "      <td>165</td>\n",
       "      <td>True</td>\n",
       "      <td>False</td>\n",
       "    </tr>\n",
       "    <tr>\n",
       "      <th>3</th>\n",
       "      <td>483</td>\n",
       "      <td>gate_40</td>\n",
       "      <td>1</td>\n",
       "      <td>False</td>\n",
       "      <td>False</td>\n",
       "    </tr>\n",
       "    <tr>\n",
       "      <th>4</th>\n",
       "      <td>488</td>\n",
       "      <td>gate_40</td>\n",
       "      <td>179</td>\n",
       "      <td>True</td>\n",
       "      <td>True</td>\n",
       "    </tr>\n",
       "  </tbody>\n",
       "</table>\n",
       "</div>"
      ],
      "text/plain": [
       "   userid  version  sum_gamerounds  retention_1  retention_7\n",
       "0     116  gate_30               3        False        False\n",
       "1     337  gate_30              38         True        False\n",
       "2     377  gate_40             165         True        False\n",
       "3     483  gate_40               1        False        False\n",
       "4     488  gate_40             179         True         True"
      ]
     },
     "execution_count": 2,
     "metadata": {},
     "output_type": "execute_result"
    }
   ],
   "source": [
    "cookie_cats = pd.read_csv(\"data/cookie_cats.csv\")\n",
    "cookie_cats.head()"
   ]
  },
  {
   "cell_type": "code",
   "execution_count": 3,
   "id": "255146a2",
   "metadata": {},
   "outputs": [
    {
     "name": "stdout",
     "output_type": "stream",
     "text": [
      "<class 'pandas.core.frame.DataFrame'>\n",
      "RangeIndex: 90189 entries, 0 to 90188\n",
      "Data columns (total 5 columns):\n",
      " #   Column          Non-Null Count  Dtype \n",
      "---  ------          --------------  ----- \n",
      " 0   userid          90189 non-null  int64 \n",
      " 1   version         90189 non-null  object\n",
      " 2   sum_gamerounds  90189 non-null  int64 \n",
      " 3   retention_1     90189 non-null  bool  \n",
      " 4   retention_7     90189 non-null  bool  \n",
      "dtypes: bool(2), int64(2), object(1)\n",
      "memory usage: 2.2+ MB\n"
     ]
    }
   ],
   "source": [
    "cookie_cats.info()"
   ]
  },
  {
   "cell_type": "markdown",
   "id": "49ecf1fa",
   "metadata": {},
   "source": [
    "*Preparo las muestras de control(gate 30) y testeo(gate 40), para retención de 1 día y 7 días.*"
   ]
  },
  {
   "cell_type": "code",
   "execution_count": null,
   "id": "83ea417d",
   "metadata": {},
   "outputs": [],
   "source": [
    "ttest_ind(legendary_stats,non_legendary_stats,equal_var=False)"
   ]
  },
  {
   "cell_type": "code",
   "execution_count": 17,
   "id": "ea477f63",
   "metadata": {},
   "outputs": [
    {
     "data": {
      "text/plain": [
       "0        False\n",
       "1         True\n",
       "6        False\n",
       "11       False\n",
       "13        True\n",
       "         ...  \n",
       "90179     True\n",
       "90180    False\n",
       "90182     True\n",
       "90183    False\n",
       "90186     True\n",
       "Name: retention_1, Length: 44700, dtype: bool"
      ]
     },
     "execution_count": 17,
     "metadata": {},
     "output_type": "execute_result"
    }
   ],
   "source": [
    "cc_30 = cookie_cats[cookie_cats[\"version\"] == \"gate_30\"]\n",
    "cc_30_1 = cc_30[\"retention_1\"]\n",
    "cc_30_1"
   ]
  },
  {
   "cell_type": "code",
   "execution_count": 18,
   "id": "582888de",
   "metadata": {},
   "outputs": [
    {
     "data": {
      "text/plain": [
       "2         True\n",
       "3        False\n",
       "4         True\n",
       "5         True\n",
       "7        False\n",
       "         ...  \n",
       "90181     True\n",
       "90184     True\n",
       "90185    False\n",
       "90187     True\n",
       "90188    False\n",
       "Name: retention_1, Length: 45489, dtype: bool"
      ]
     },
     "execution_count": 18,
     "metadata": {},
     "output_type": "execute_result"
    }
   ],
   "source": [
    "cc_40 = cookie_cats[cookie_cats[\"version\"] == \"gate_40\"]\n",
    "cc_40_1 = cc_40[\"retention_1\"]\n",
    "cc_40_1"
   ]
  },
  {
   "cell_type": "code",
   "execution_count": 25,
   "id": "5bb51622",
   "metadata": {},
   "outputs": [
    {
     "data": {
      "text/plain": [
       "0        False\n",
       "1        False\n",
       "6        False\n",
       "11       False\n",
       "13       False\n",
       "         ...  \n",
       "90179    False\n",
       "90180    False\n",
       "90182    False\n",
       "90183    False\n",
       "90186    False\n",
       "Name: retention_7, Length: 44700, dtype: bool"
      ]
     },
     "execution_count": 25,
     "metadata": {},
     "output_type": "execute_result"
    }
   ],
   "source": [
    "cc_30 = cookie_cats[cookie_cats[\"version\"] == \"gate_30\"]\n",
    "cc_30_7 = cc_30[\"retention_7\"]\n",
    "cc_30_7"
   ]
  },
  {
   "cell_type": "code",
   "execution_count": 26,
   "id": "395c967f",
   "metadata": {},
   "outputs": [
    {
     "data": {
      "text/plain": [
       "2        False\n",
       "3        False\n",
       "4         True\n",
       "5         True\n",
       "7        False\n",
       "         ...  \n",
       "90181    False\n",
       "90184    False\n",
       "90185    False\n",
       "90187    False\n",
       "90188    False\n",
       "Name: retention_7, Length: 45489, dtype: bool"
      ]
     },
     "execution_count": 26,
     "metadata": {},
     "output_type": "execute_result"
    }
   ],
   "source": [
    "cc_40 = cookie_cats[cookie_cats[\"version\"] == \"gate_40\"]\n",
    "cc_40_7 = cc_40[\"retention_7\"]\n",
    "cc_40_7"
   ]
  },
  {
   "cell_type": "code",
   "execution_count": 23,
   "id": "f1a0da91",
   "metadata": {},
   "outputs": [],
   "source": [
    "from scipy.stats import ttest_ind"
   ]
  },
  {
   "cell_type": "code",
   "execution_count": 24,
   "id": "16448bd2",
   "metadata": {},
   "outputs": [
    {
     "data": {
      "text/plain": [
       "Ttest_indResult(statistic=1.7840979256519656, pvalue=0.07441111525563184)"
      ]
     },
     "execution_count": 24,
     "metadata": {},
     "output_type": "execute_result"
    }
   ],
   "source": [
    "ttest_ind(cc_30_1,cc_40_1)"
   ]
  },
  {
   "cell_type": "markdown",
   "id": "8496d5c0",
   "metadata": {},
   "source": [
    "*No hay diferencias significativas en para retener al 1er días entre los grupos de 30 y 40*"
   ]
  },
  {
   "cell_type": "code",
   "execution_count": 27,
   "id": "0176a683",
   "metadata": {},
   "outputs": [
    {
     "data": {
      "text/plain": [
       "Ttest_indResult(statistic=3.1644994996802778, pvalue=0.0015540151201088365)"
      ]
     },
     "execution_count": 27,
     "metadata": {},
     "output_type": "execute_result"
    }
   ],
   "source": [
    "ttest_ind(cc_30_7,cc_40_7)"
   ]
  },
  {
   "cell_type": "markdown",
   "id": "327ff77c",
   "metadata": {},
   "source": [
    "*Hay diferencias significativas en para retener a los 7 días entre los grupos de 30 y 40*"
   ]
  },
  {
   "cell_type": "markdown",
   "id": "0cf384e0",
   "metadata": {},
   "source": [
    "### BAYES"
   ]
  },
  {
   "cell_type": "code",
   "execution_count": 50,
   "id": "7e6dddef",
   "metadata": {},
   "outputs": [],
   "source": [
    "from bayes import * #para poder usar las funciones del archivo bayes que hay en el lab"
   ]
  },
  {
   "cell_type": "markdown",
   "id": "3d4e3687",
   "metadata": {},
   "source": [
    "*Test de retención para 1 día*"
   ]
  },
  {
   "cell_type": "code",
   "execution_count": 28,
   "id": "734022ac",
   "metadata": {},
   "outputs": [
    {
     "data": {
      "text/plain": [
       "False    24666\n",
       "True     20034\n",
       "Name: retention_1, dtype: int64"
      ]
     },
     "execution_count": 28,
     "metadata": {},
     "output_type": "execute_result"
    }
   ],
   "source": [
    "cc_30_1.value_counts()"
   ]
  },
  {
   "cell_type": "code",
   "execution_count": 30,
   "id": "0753c0a0",
   "metadata": {},
   "outputs": [
    {
     "data": {
      "text/plain": [
       "44700"
      ]
     },
     "execution_count": 30,
     "metadata": {},
     "output_type": "execute_result"
    }
   ],
   "source": [
    "len(cc_30_1) #longitud total de impresiones de grupo 30, mientras que \"true\" son los éxitos"
   ]
  },
  {
   "cell_type": "code",
   "execution_count": 29,
   "id": "e148b2dc",
   "metadata": {},
   "outputs": [
    {
     "data": {
      "text/plain": [
       "False    25370\n",
       "True     20119\n",
       "Name: retention_1, dtype: int64"
      ]
     },
     "execution_count": 29,
     "metadata": {},
     "output_type": "execute_result"
    }
   ],
   "source": [
    "cc_40_1.value_counts()"
   ]
  },
  {
   "cell_type": "code",
   "execution_count": 31,
   "id": "5a5e4138",
   "metadata": {},
   "outputs": [
    {
     "data": {
      "text/plain": [
       "45489"
      ]
     },
     "execution_count": 31,
     "metadata": {},
     "output_type": "execute_result"
    }
   ],
   "source": [
    "len(cc_40_1) #longitud total de impresiones de grupo 40, mientras que \"true\" son los éxitos"
   ]
  },
  {
   "cell_type": "code",
   "execution_count": 32,
   "id": "35f5272d",
   "metadata": {},
   "outputs": [
    {
     "data": {
      "text/html": [
       "<div>\n",
       "<style scoped>\n",
       "    .dataframe tbody tr th:only-of-type {\n",
       "        vertical-align: middle;\n",
       "    }\n",
       "\n",
       "    .dataframe tbody tr th {\n",
       "        vertical-align: top;\n",
       "    }\n",
       "\n",
       "    .dataframe thead th {\n",
       "        text-align: right;\n",
       "    }\n",
       "</style>\n",
       "<table border=\"1\" class=\"dataframe\">\n",
       "  <thead>\n",
       "    <tr style=\"text-align: right;\">\n",
       "      <th>retention_1</th>\n",
       "      <th>False</th>\n",
       "      <th>True</th>\n",
       "    </tr>\n",
       "    <tr>\n",
       "      <th>version</th>\n",
       "      <th></th>\n",
       "      <th></th>\n",
       "    </tr>\n",
       "  </thead>\n",
       "  <tbody>\n",
       "    <tr>\n",
       "      <th>gate_30</th>\n",
       "      <td>24666</td>\n",
       "      <td>20034</td>\n",
       "    </tr>\n",
       "    <tr>\n",
       "      <th>gate_40</th>\n",
       "      <td>25370</td>\n",
       "      <td>20119</td>\n",
       "    </tr>\n",
       "  </tbody>\n",
       "</table>\n",
       "</div>"
      ],
      "text/plain": [
       "retention_1  False  True \n",
       "version                  \n",
       "gate_30      24666  20034\n",
       "gate_40      25370  20119"
      ]
     },
     "execution_count": 32,
     "metadata": {},
     "output_type": "execute_result"
    }
   ],
   "source": [
    "pd.crosstab(cookie_cats.version, cookie_cats.retention_1) # también se puede ver en un crosstab"
   ]
  },
  {
   "cell_type": "code",
   "execution_count": 33,
   "id": "3fa2edba",
   "metadata": {},
   "outputs": [
    {
     "data": {
      "text/html": [
       "<div>\n",
       "<style scoped>\n",
       "    .dataframe tbody tr th:only-of-type {\n",
       "        vertical-align: middle;\n",
       "    }\n",
       "\n",
       "    .dataframe tbody tr th {\n",
       "        vertical-align: top;\n",
       "    }\n",
       "\n",
       "    .dataframe thead th {\n",
       "        text-align: right;\n",
       "    }\n",
       "</style>\n",
       "<table border=\"1\" class=\"dataframe\">\n",
       "  <thead>\n",
       "    <tr style=\"text-align: right;\">\n",
       "      <th>retention_7</th>\n",
       "      <th>False</th>\n",
       "      <th>True</th>\n",
       "    </tr>\n",
       "    <tr>\n",
       "      <th>version</th>\n",
       "      <th></th>\n",
       "      <th></th>\n",
       "    </tr>\n",
       "  </thead>\n",
       "  <tbody>\n",
       "    <tr>\n",
       "      <th>gate_30</th>\n",
       "      <td>36198</td>\n",
       "      <td>8502</td>\n",
       "    </tr>\n",
       "    <tr>\n",
       "      <th>gate_40</th>\n",
       "      <td>37210</td>\n",
       "      <td>8279</td>\n",
       "    </tr>\n",
       "  </tbody>\n",
       "</table>\n",
       "</div>"
      ],
      "text/plain": [
       "retention_7  False  True \n",
       "version                  \n",
       "gate_30      36198   8502\n",
       "gate_40      37210   8279"
      ]
     },
     "execution_count": 33,
     "metadata": {},
     "output_type": "execute_result"
    }
   ],
   "source": [
    "pd.crosstab(cookie_cats.version, cookie_cats.retention_7)"
   ]
  },
  {
   "cell_type": "markdown",
   "id": "f0cb236b",
   "metadata": {},
   "source": [
    "*test 1 day retention*"
   ]
  },
  {
   "cell_type": "code",
   "execution_count": 108,
   "id": "dbf68559",
   "metadata": {},
   "outputs": [
    {
     "data": {
      "text/plain": [
       "'Tasas conversion: Control: 0.4481879194630872, Test: 0.44228274967574577'"
      ]
     },
     "execution_count": 108,
     "metadata": {},
     "output_type": "execute_result"
    }
   ],
   "source": [
    "imps_ctrl, convs_ctrl = 44700, 20034    # impresiones, retenciones\n",
    "\n",
    "imps_test, convs_test = 45489, 20119 \n",
    "\n",
    "\n",
    "CR_ctrl = convs_ctrl/imps_ctrl\n",
    "CR_test = convs_test/imps_test\n",
    "\n",
    "f'Tasas conversion: Control: {CR_ctrl}, Test: {CR_test}'"
   ]
  },
  {
   "cell_type": "code",
   "execution_count": 109,
   "id": "8eac1894",
   "metadata": {},
   "outputs": [],
   "source": [
    "from scipy.stats import bernoulli, beta"
   ]
  },
  {
   "cell_type": "code",
   "execution_count": 110,
   "id": "148c2a9f",
   "metadata": {},
   "outputs": [],
   "source": [
    "# a prioris\n",
    "\n",
    "a_C, b_C = 1+convs_ctrl, 1+imps_ctrl-convs_ctrl\n",
    "\n",
    "a_T, b_T = 1+convs_test, 1+imps_test-convs_test\n",
    "\n",
    "\n",
    "beta_control = beta(a_C, b_C)\n",
    "\n",
    "beta_test = beta(a_T, b_T)"
   ]
  },
  {
   "cell_type": "code",
   "execution_count": 111,
   "id": "903bb8e6",
   "metadata": {},
   "outputs": [
    {
     "data": {
      "text/plain": [
       "(0.44819023757326293, 0.44228528719966587)"
      ]
     },
     "execution_count": 111,
     "metadata": {},
     "output_type": "execute_result"
    }
   ],
   "source": [
    "beta_control.mean(), beta_test.mean()"
   ]
  },
  {
   "cell_type": "code",
   "execution_count": 112,
   "id": "6538be06",
   "metadata": {},
   "outputs": [],
   "source": [
    "def plot(betas, names, linf=0.42, lsup=0.46):\n",
    "    x=np.linspace(linf, lsup, 100)\n",
    "    for f, n in zip(betas, names):\n",
    "        y=f.pdf(x)\n",
    "        y_pico=pico(f.args[0], f.args[1])\n",
    "        y_var=f.var()\n",
    "        plt.plot(x, y, label='{}, tasa de conv: {:.6f} $\\pm$ {:.10f}'.format(n, y_pico, y_var))\n",
    "        plt.yticks([])\n",
    "    plt.legend()\n",
    "    plt.show();\n"
   ]
  },
  {
   "cell_type": "code",
   "execution_count": 113,
   "id": "8771e231",
   "metadata": {},
   "outputs": [
    {
     "data": {
      "image/png": "[encoded data removed]",
      "text/plain": [
       "<Figure size 640x480 with 1 Axes>"
      ]
     },
     "metadata": {},
     "output_type": "display_data"
    }
   ],
   "source": [
    "bayes.plot([beta_control, beta_test], ['Control', 'Testeo'], linf=0.42, lsup=0.46)"
   ]
  },
  {
   "cell_type": "code",
   "execution_count": 114,
   "id": "999a4149",
   "metadata": {},
   "outputs": [],
   "source": [
    "def calc_prob(beta1, beta2):\n",
    "    return g(beta1.args[0], beta1.args[1], beta2.args[0], beta2.args[1])"
   ]
  },
  {
   "cell_type": "code",
   "execution_count": 115,
   "id": "2bd90772",
   "metadata": {},
   "outputs": [
    {
     "data": {
      "text/plain": [
       "0.9627939748515354"
      ]
     },
     "execution_count": 115,
     "metadata": {},
     "output_type": "execute_result"
    }
   ],
   "source": [
    "bayes.calc_prob(beta_control, beta2)"
   ]
  },
  {
   "cell_type": "markdown",
   "id": "7a1e43d8",
   "metadata": {},
   "source": [
    "*test 7 days retention*"
   ]
  },
  {
   "cell_type": "code",
   "execution_count": 103,
   "id": "56a66904",
   "metadata": {},
   "outputs": [
    {
     "data": {
      "text/plain": [
       "'Tasas conversion: Control: 0.19020134228187918, Test: 0.18200004396667327'"
      ]
     },
     "execution_count": 103,
     "metadata": {},
     "output_type": "execute_result"
    }
   ],
   "source": [
    "imps_ctrl, convs_ctrl = 44700, 8502    # impresiones, retenciones\n",
    "\n",
    "imps_test, convs_test = 45489, 8279\n",
    "\n",
    "\n",
    "CR_ctrl = convs_ctrl/imps_ctrl\n",
    "CR_test = convs_test/imps_test\n",
    "\n",
    "f'Tasas conversion: Control: {CR_ctrl}, Test: {CR_test}'"
   ]
  },
  {
   "cell_type": "code",
   "execution_count": 104,
   "id": "d886291c",
   "metadata": {},
   "outputs": [],
   "source": [
    "# a prioris\n",
    "\n",
    "a_C, b_C = 1+convs_ctrl, 1+imps_ctrl-convs_ctrl\n",
    "\n",
    "a_T, b_T = 1+convs_test, 1+imps_test-convs_test\n",
    "\n",
    "\n",
    "beta_control = beta(a_C, b_C)\n",
    "\n",
    "beta_test = beta(a_T, b_T)"
   ]
  },
  {
   "cell_type": "code",
   "execution_count": 105,
   "id": "70ffce40",
   "metadata": {},
   "outputs": [],
   "source": [
    "def plot(betas, names, linf=0.17, lsup=0.20):\n",
    "    x=np.linspace(linf, lsup, 100)\n",
    "    for f, n in zip(betas, names):\n",
    "        y=f.pdf(x)\n",
    "        y_pico=pico(f.args[0], f.args[1])\n",
    "        y_var=f.var()\n",
    "        plt.plot(x, y, label='{}, tasa de conv: {:.6f} $\\pm$ {:.10f}'.format(n, y_pico, y_var))\n",
    "        plt.yticks([])\n",
    "    plt.legend()\n",
    "    plt.show();\n"
   ]
  },
  {
   "cell_type": "code",
   "execution_count": 106,
   "id": "34711333",
   "metadata": {},
   "outputs": [
    {
     "data": {
      "image/png": "[encoded data removed]",
      "text/plain": [
       "<Figure size 640x480 with 1 Axes>"
      ]
     },
     "metadata": {},
     "output_type": "display_data"
    }
   ],
   "source": [
    "plot([beta_control, beta_test], ['Control', 'Testeo'])"
   ]
  },
  {
   "cell_type": "code",
   "execution_count": 107,
   "id": "65e276f1",
   "metadata": {},
   "outputs": [
    {
     "data": {
      "text/plain": [
       "0.9992226613235504"
      ]
     },
     "execution_count": 107,
     "metadata": {},
     "output_type": "execute_result"
    }
   ],
   "source": [
    "bayes.calc_prob(beta_control, beta_test)"
   ]
  },
  {
   "cell_type": "markdown",
   "id": "3a8f00be",
   "metadata": {},
   "source": [
    "*Nos indica que no merece realizar el cambio, ya que en un 99% de probabilidad la situación empeorará. Además La curva de test sale a la izquierda*"
   ]
  }
 ],
 "metadata": {
  "finalized": {
   "timestamp": 1642857010293,
   "trusted": true
  },
  "kernelspec": {
   "display_name": "Python 3 (ipykernel)",
   "language": "python",
   "name": "python3"
  },
  "language_info": {
   "codemirror_mode": {
    "name": "ipython",
    "version": 3
   },
   "file_extension": ".py",
   "mimetype": "text/x-python",
   "name": "python",
   "nbconvert_exporter": "python",
   "pygments_lexer": "ipython3",
   "version": "3.11.4"
  },
  "toc": {
   "base_numbering": 1,
   "nav_menu": {},
   "number_sections": true,
   "sideBar": true,
   "skip_h1_title": false,
   "title_cell": "Table of Contents",
   "title_sidebar": "Contents",
   "toc_cell": true,
   "toc_position": {},
   "toc_section_display": true,
   "toc_window_display": false
  },
  "varInspector": {
   "cols": {
    "lenName": 16,
    "lenType": 16,
    "lenVar": 40
   },
   "kernels_config": {
    "python": {
     "delete_cmd_postfix": "",
     "delete_cmd_prefix": "del ",
     "library": "var_list.py",
     "varRefreshCmd": "print(var_dic_list())"
    },
    "r": {
     "delete_cmd_postfix": ") ",
     "delete_cmd_prefix": "rm(",
     "library": "var_list.r",
     "varRefreshCmd": "cat(var_dic_list()) "
    }
   },
   "types_to_exclude": [
    "module",
    "function",
    "builtin_function_or_method",
    "instance",
    "_Feature"
   ],
   "window_display": false
  }
 },
 "nbformat": 4,
 "nbformat_minor": 5
}
