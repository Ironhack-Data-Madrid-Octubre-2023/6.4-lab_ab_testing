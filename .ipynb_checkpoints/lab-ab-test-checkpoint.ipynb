{
 "cells": [
  {
   "cell_type": "markdown",
   "id": "angry-pearl",
   "metadata": {
    "toc": true
   },
   "source": [
    "<h1>Table of Contents<span class=\"tocSkip\"></span></h1>\n",
    "<div class=\"toc\"><ul class=\"toc-item\"><li><span><a href=\"#AB-Testing\" data-toc-modified-id=\"AB-Testing-1\"><span class=\"toc-item-num\">1&nbsp;&nbsp;</span>AB-Testing</a></span></li></ul></div>"
   ]
  },
  {
   "cell_type": "markdown",
   "id": "c92ba6e0",
   "metadata": {},
   "source": [
    "# AB-Testing\n",
    "\n",
    "![cats](images/cats.jpeg)\n",
    "\n",
    "\n",
    "Imaginad que somos los cientificos de datos de la empresa de videojuegos Tactile Entertainment. Los desarrolladores del juego Cookie Cats pretenden introducir un cambio en el juego para aumentar la retencion de los jugadores. En cierto nivel del juego los jugadores se encuentran una puerta que les obliga a esperar o a pagar la app. Actualmente la puerta se encuentra en nivel 30 y se pretende pasar al nivel 40, para comprobar la retencion a 1 y 7 dias. Antes de realizar el cambio definitivo en el juego se raliza un test AB.\n",
    "\n",
    "Los datos estan alojados en `data/cookie_cats.csv`. Nuestro grupo de control sera la version actual `gate_30` y el grupo de tratamiento sera la version `gate_40`. Debemos realizar el test para 1 dia de retencion `retention_1` y para 7 dias `retention_7`."
   ]
  },
  {
   "cell_type": "code",
   "execution_count": 1,
   "id": "d448cb1e",
   "metadata": {},
   "outputs": [],
   "source": [
    "#%pip install statsmodels"
   ]
  },
  {
   "cell_type": "code",
   "execution_count": 2,
   "id": "ac3b2f52",
   "metadata": {},
   "outputs": [],
   "source": [
    "# librerias\n",
    "\n",
    "import pandas as pd\n",
    "import numpy as np\n",
    "\n",
    "from statsmodels.stats.proportion import proportions_ztest, proportion_confint\n",
    "from scipy.stats import norm, sem\n",
    "\n",
    "import pylab as plt\n",
    "\n",
    "from bayes import *"
   ]
  },
  {
   "cell_type": "code",
   "execution_count": 4,
   "id": "7fe515c2",
   "metadata": {},
   "outputs": [
    {
     "data": {
      "text/html": [
       "<div>\n",
       "<style scoped>\n",
       "    .dataframe tbody tr th:only-of-type {\n",
       "        vertical-align: middle;\n",
       "    }\n",
       "\n",
       "    .dataframe tbody tr th {\n",
       "        vertical-align: top;\n",
       "    }\n",
       "\n",
       "    .dataframe thead th {\n",
       "        text-align: right;\n",
       "    }\n",
       "</style>\n",
       "<table border=\"1\" class=\"dataframe\">\n",
       "  <thead>\n",
       "    <tr style=\"text-align: right;\">\n",
       "      <th></th>\n",
       "      <th>userid</th>\n",
       "      <th>version</th>\n",
       "      <th>sum_gamerounds</th>\n",
       "      <th>retention_1</th>\n",
       "      <th>retention_7</th>\n",
       "    </tr>\n",
       "  </thead>\n",
       "  <tbody>\n",
       "    <tr>\n",
       "      <th>0</th>\n",
       "      <td>116</td>\n",
       "      <td>gate_30</td>\n",
       "      <td>3</td>\n",
       "      <td>False</td>\n",
       "      <td>False</td>\n",
       "    </tr>\n",
       "    <tr>\n",
       "      <th>1</th>\n",
       "      <td>337</td>\n",
       "      <td>gate_30</td>\n",
       "      <td>38</td>\n",
       "      <td>True</td>\n",
       "      <td>False</td>\n",
       "    </tr>\n",
       "    <tr>\n",
       "      <th>2</th>\n",
       "      <td>377</td>\n",
       "      <td>gate_40</td>\n",
       "      <td>165</td>\n",
       "      <td>True</td>\n",
       "      <td>False</td>\n",
       "    </tr>\n",
       "    <tr>\n",
       "      <th>3</th>\n",
       "      <td>483</td>\n",
       "      <td>gate_40</td>\n",
       "      <td>1</td>\n",
       "      <td>False</td>\n",
       "      <td>False</td>\n",
       "    </tr>\n",
       "    <tr>\n",
       "      <th>4</th>\n",
       "      <td>488</td>\n",
       "      <td>gate_40</td>\n",
       "      <td>179</td>\n",
       "      <td>True</td>\n",
       "      <td>True</td>\n",
       "    </tr>\n",
       "  </tbody>\n",
       "</table>\n",
       "</div>"
      ],
      "text/plain": [
       "   userid  version  sum_gamerounds  retention_1  retention_7\n",
       "0     116  gate_30               3        False        False\n",
       "1     337  gate_30              38         True        False\n",
       "2     377  gate_40             165         True        False\n",
       "3     483  gate_40               1        False        False\n",
       "4     488  gate_40             179         True         True"
      ]
     },
     "execution_count": 4,
     "metadata": {},
     "output_type": "execute_result"
    }
   ],
   "source": [
    "# datos\n",
    "\n",
    "df=pd.read_csv('data/cookie_cats.csv')\n",
    "df.head()"
   ]
  },
  {
   "cell_type": "markdown",
   "id": "ca5137a6",
   "metadata": {},
   "source": [
    "### Analisis Datos / Diseno Experimento"
   ]
  },
  {
   "cell_type": "code",
   "execution_count": 5,
   "id": "d8b7cc17",
   "metadata": {},
   "outputs": [
    {
     "data": {
      "text/plain": [
       "(90189, 5)"
      ]
     },
     "execution_count": 5,
     "metadata": {},
     "output_type": "execute_result"
    }
   ],
   "source": [
    "df.shape"
   ]
  },
  {
   "cell_type": "code",
   "execution_count": 6,
   "id": "162582e5",
   "metadata": {},
   "outputs": [
    {
     "name": "stdout",
     "output_type": "stream",
     "text": [
      "<class 'pandas.core.frame.DataFrame'>\n",
      "RangeIndex: 90189 entries, 0 to 90188\n",
      "Data columns (total 5 columns):\n",
      " #   Column          Non-Null Count  Dtype \n",
      "---  ------          --------------  ----- \n",
      " 0   userid          90189 non-null  int64 \n",
      " 1   version         90189 non-null  object\n",
      " 2   sum_gamerounds  90189 non-null  int64 \n",
      " 3   retention_1     90189 non-null  bool  \n",
      " 4   retention_7     90189 non-null  bool  \n",
      "dtypes: bool(2), int64(2), object(1)\n",
      "memory usage: 2.2+ MB\n"
     ]
    }
   ],
   "source": [
    "df.info()"
   ]
  },
  {
   "cell_type": "code",
   "execution_count": null,
   "id": "565b12e5",
   "metadata": {},
   "outputs": [],
   "source": [
    "#H0 > p == p0\n",
    "#H1 > p != p0\n",
    "\n",
    "#variables dependientes: tasa de retención a 1 dia, tasa de renteción a 7 días \n",
    "\n",
    "#grupo de control: gate 30 \n",
    "#grupo de tratamiento: gate 40"
   ]
  },
  {
   "cell_type": "code",
   "execution_count": 9,
   "id": "450bd15e",
   "metadata": {},
   "outputs": [],
   "source": [
    "#assumimos que el tamaño de la muestra es suficiente para lograr el efecto esperado (bien como otros parametros, i.e., alpha y power)"
   ]
  },
  {
   "cell_type": "markdown",
   "id": "726e7e39",
   "metadata": {},
   "source": [
    "### Transformacion "
   ]
  },
  {
   "cell_type": "markdown",
   "id": "b4b5e7aa",
   "metadata": {},
   "source": [
    "#### Experimento 1 "
   ]
  },
  {
   "cell_type": "code",
   "execution_count": 15,
   "id": "f2e6147a",
   "metadata": {},
   "outputs": [
    {
     "data": {
      "text/plain": [
       "(90189, 3)"
      ]
     },
     "execution_count": 15,
     "metadata": {},
     "output_type": "execute_result"
    }
   ],
   "source": [
    "#datos que me importan \n",
    "\n",
    "df1 = df.loc[:,['userid','version','retention_1']]\n",
    "df1.shape"
   ]
  },
  {
   "cell_type": "code",
   "execution_count": 17,
   "id": "6d71af97",
   "metadata": {},
   "outputs": [
    {
     "data": {
      "text/plain": [
       "userid\n",
       "116        1\n",
       "6632278    1\n",
       "6658202    1\n",
       "Name: count, dtype: int64"
      ]
     },
     "execution_count": 17,
     "metadata": {},
     "output_type": "execute_result"
    }
   ],
   "source": [
    "#aceso unico \n",
    "\n",
    "df1['userid'].value_counts().head(3)"
   ]
  },
  {
   "cell_type": "markdown",
   "id": "89ade1c3",
   "metadata": {},
   "source": [
    "#### Experimento 2"
   ]
  },
  {
   "cell_type": "code",
   "execution_count": 16,
   "id": "f9ab903d",
   "metadata": {},
   "outputs": [
    {
     "data": {
      "text/plain": [
       "(90189, 3)"
      ]
     },
     "execution_count": 16,
     "metadata": {},
     "output_type": "execute_result"
    }
   ],
   "source": [
    "df7 = df.loc[:,['userid','version','retention_7']]\n",
    "df7.shape"
   ]
  },
  {
   "cell_type": "code",
   "execution_count": null,
   "id": "f2fb9e54",
   "metadata": {},
   "outputs": [],
   "source": [
    "#aceso unico \n",
    "\n",
    "df1['userid'].value_counts().head(3)"
   ]
  },
  {
   "cell_type": "markdown",
   "id": "f0a21fba",
   "metadata": {},
   "source": [
    "### Muestreo\n"
   ]
  },
  {
   "cell_type": "markdown",
   "id": "def9d8d0",
   "metadata": {},
   "source": [
    "#### Experimento 1  "
   ]
  },
  {
   "cell_type": "code",
   "execution_count": 37,
   "id": "8c82f520",
   "metadata": {},
   "outputs": [
    {
     "data": {
      "text/plain": [
       "(44700, 3)"
      ]
     },
     "execution_count": 37,
     "metadata": {},
     "output_type": "execute_result"
    }
   ],
   "source": [
    "#control \n",
    "control1 = df1[df1['version'] == 'gate_30']\n",
    "control1.shape "
   ]
  },
  {
   "cell_type": "code",
   "execution_count": 38,
   "id": "169dac32",
   "metadata": {},
   "outputs": [
    {
     "data": {
      "text/plain": [
       "retention_1\n",
       "False    24666\n",
       "True     20034\n",
       "Name: count, dtype: int64"
      ]
     },
     "execution_count": 38,
     "metadata": {},
     "output_type": "execute_result"
    }
   ],
   "source": [
    "control1['retention_1'].value_counts()"
   ]
  },
  {
   "cell_type": "code",
   "execution_count": 39,
   "id": "38510cf2",
   "metadata": {},
   "outputs": [
    {
     "data": {
      "text/plain": [
       "(45489, 3)"
      ]
     },
     "execution_count": 39,
     "metadata": {},
     "output_type": "execute_result"
    }
   ],
   "source": [
    "#tratamiento \n",
    "tratamiento1= df1[df1['version'] == 'gate_40']\n",
    "tratamiento1.shape "
   ]
  },
  {
   "cell_type": "code",
   "execution_count": 40,
   "id": "fc0a3e0f",
   "metadata": {},
   "outputs": [
    {
     "data": {
      "text/plain": [
       "retention_1\n",
       "False    25370\n",
       "True     20119\n",
       "Name: count, dtype: int64"
      ]
     },
     "execution_count": 40,
     "metadata": {},
     "output_type": "execute_result"
    }
   ],
   "source": [
    "tratamiento1['retention_1'].value_counts()"
   ]
  },
  {
   "cell_type": "markdown",
   "id": "90d3da8e",
   "metadata": {},
   "source": [
    "#### Experimento 2"
   ]
  },
  {
   "cell_type": "code",
   "execution_count": 44,
   "id": "4eb5efca",
   "metadata": {},
   "outputs": [
    {
     "data": {
      "text/plain": [
       "(44700, 3)"
      ]
     },
     "execution_count": 44,
     "metadata": {},
     "output_type": "execute_result"
    }
   ],
   "source": [
    "#control \n",
    "control7 = df7[df7['version'] == 'gate_30']\n",
    "control7.shape "
   ]
  },
  {
   "cell_type": "code",
   "execution_count": 43,
   "id": "7ae46f54",
   "metadata": {},
   "outputs": [
    {
     "data": {
      "text/plain": [
       "retention_7\n",
       "False    36198\n",
       "True      8502\n",
       "Name: count, dtype: int64"
      ]
     },
     "execution_count": 43,
     "metadata": {},
     "output_type": "execute_result"
    }
   ],
   "source": [
    "control7['retention_7'].value_counts()"
   ]
  },
  {
   "cell_type": "code",
   "execution_count": 45,
   "id": "63b4f1d5",
   "metadata": {},
   "outputs": [
    {
     "data": {
      "text/plain": [
       "(45489, 3)"
      ]
     },
     "execution_count": 45,
     "metadata": {},
     "output_type": "execute_result"
    }
   ],
   "source": [
    "#tratamiento \n",
    "tratamiento7= df7[df7['version'] == 'gate_40']\n",
    "tratamiento7.shape "
   ]
  },
  {
   "cell_type": "markdown",
   "id": "b16b1f67",
   "metadata": {},
   "source": [
    "### Testeo para retention 1"
   ]
  },
  {
   "cell_type": "code",
   "execution_count": 46,
   "id": "d881cb7a",
   "metadata": {},
   "outputs": [
    {
     "data": {
      "text/plain": [
       "44700"
      ]
     },
     "execution_count": 46,
     "metadata": {},
     "output_type": "execute_result"
    }
   ],
   "source": [
    "all_ctrl = control1.shape[0]\n",
    "all_ctrl"
   ]
  },
  {
   "cell_type": "code",
   "execution_count": 48,
   "id": "1dbbca0c",
   "metadata": {},
   "outputs": [
    {
     "name": "stderr",
     "output_type": "stream",
     "text": [
      "/var/folders/5p/mpbfgq4n4c15mzcjt_1kz83c0000gn/T/ipykernel_10556/2011387705.py:1: FutureWarning: Series.__getitem__ treating keys as positions is deprecated. In a future version, integer keys will always be treated as labels (consistent with DataFrame behavior). To access a value by position, use `ser.iloc[pos]`\n",
      "  retention_ctrl = control1['retention_1'].value_counts()[1]\n"
     ]
    },
    {
     "data": {
      "text/plain": [
       "20034"
      ]
     },
     "execution_count": 48,
     "metadata": {},
     "output_type": "execute_result"
    }
   ],
   "source": [
    "retention_ctrl = control1['retention_1'].value_counts()[1]\n",
    "retention_ctrl"
   ]
  },
  {
   "cell_type": "code",
   "execution_count": 50,
   "id": "1318202b",
   "metadata": {},
   "outputs": [
    {
     "data": {
      "text/plain": [
       "45489"
      ]
     },
     "execution_count": 50,
     "metadata": {},
     "output_type": "execute_result"
    }
   ],
   "source": [
    "all_trat = tratamiento1.shape[0] \n",
    "all_trat"
   ]
  },
  {
   "cell_type": "code",
   "execution_count": 52,
   "id": "7ce3e904",
   "metadata": {},
   "outputs": [
    {
     "name": "stderr",
     "output_type": "stream",
     "text": [
      "/var/folders/5p/mpbfgq4n4c15mzcjt_1kz83c0000gn/T/ipykernel_10556/3885556412.py:1: FutureWarning: Series.__getitem__ treating keys as positions is deprecated. In a future version, integer keys will always be treated as labels (consistent with DataFrame behavior). To access a value by position, use `ser.iloc[pos]`\n",
      "  retention_trat = tratamiento1['retention_1'].value_counts()[1]\n"
     ]
    },
    {
     "data": {
      "text/plain": [
       "20119"
      ]
     },
     "execution_count": 52,
     "metadata": {},
     "output_type": "execute_result"
    }
   ],
   "source": [
    "retention_trat = tratamiento1['retention_1'].value_counts()[1]\n",
    "retention_trat "
   ]
  },
  {
   "cell_type": "code",
   "execution_count": 55,
   "id": "34459546",
   "metadata": {},
   "outputs": [
    {
     "data": {
      "text/plain": [
       "'Tasas retención: Control: 0.4481879194630872, Test: 0.44228274967574577'"
      ]
     },
     "execution_count": 55,
     "metadata": {},
     "output_type": "execute_result"
    }
   ],
   "source": [
    "#tasa de retension \n",
    "RR_ctrl = retention_ctrl/all_ctrl\n",
    "RR_trat = retention_trat/all_trat\n",
    "f'Tasas retención: Control: {RR_ctrl}, Test: {RR_trat}'"
   ]
  },
  {
   "cell_type": "code",
   "execution_count": 56,
   "id": "54721bb1",
   "metadata": {},
   "outputs": [],
   "source": [
    "# a prioris (parametros de la funcion beta)\n",
    "\n",
    "a_C, b_C = 1+retention_ctrl, 1+all_ctrl-retention_ctrl \n",
    "\n",
    "a_T, b_T = 1+retention_trat, 1+all_trat-retention_trat\n",
    "\n",
    "beta_control = beta(a_C, b_C) #distribuicion beta de los dos parametros de control\n",
    "\n",
    "beta_test = beta(a_T, b_T) #distribuicion beta de los parametros de test"
   ]
  },
  {
   "cell_type": "code",
   "execution_count": 57,
   "id": "8d523ae3",
   "metadata": {},
   "outputs": [
    {
     "data": {
      "text/plain": [
       "(0.44819023757326293, 0.44228528719966587)"
      ]
     },
     "execution_count": 57,
     "metadata": {},
     "output_type": "execute_result"
    }
   ],
   "source": [
    "#coincide con lo de arriba \n",
    "\n",
    "beta_control.mean(), beta_test.mean()"
   ]
  },
  {
   "cell_type": "code",
   "execution_count": 59,
   "id": "67c9e66c",
   "metadata": {},
   "outputs": [],
   "source": [
    "x=np.linspace(0, 0.008, 1000)\n",
    "\n",
    "def plot(betas, nombres):\n",
    "    \n",
    "    for bet, nom in zip(betas, nombres):\n",
    "        \n",
    "        y=bet.pdf(x)\n",
    "        y_media=bet.mean()\n",
    "        y_std=bet.std()\n",
    "        \n",
    "        plt.plot(x, y, label='{}, tasa de conv: {:.6f} $\\pm$ {:.10f}'.format(nom, y_media, y_std))\n",
    "        plt.yticks([])\n",
    "        \n",
    "    plt.legend()\n",
    "    plt.show();"
   ]
  },
  {
   "cell_type": "code",
   "execution_count": 60,
   "id": "6caef2dd",
   "metadata": {},
   "outputs": [
    {
     "data": {
      "image/png": "[encoded data removed]",
      "text/plain": [
       "<Figure size 640x480 with 1 Axes>"
      ]
     },
     "metadata": {},
     "output_type": "display_data"
    }
   ],
   "source": [
    "plot([beta_control, beta_test], ['Control', 'Testeo'])"
   ]
  },
  {
   "cell_type": "code",
   "execution_count": 61,
   "id": "9bb9c404",
   "metadata": {},
   "outputs": [
    {
     "data": {
      "text/plain": [
       "-0.013175098158249857"
      ]
     },
     "execution_count": 61,
     "metadata": {},
     "output_type": "execute_result"
    }
   ],
   "source": [
    "#cuanto es mejor uno que otro?\n",
    "\n",
    "salto = (beta_test.mean() - beta_control.mean())/beta_control.mean()\n",
    "\n",
    "salto"
   ]
  },
  {
   "cell_type": "code",
   "execution_count": 62,
   "id": "5d3f598c",
   "metadata": {},
   "outputs": [
    {
     "data": {
      "text/plain": [
       "1.0"
      ]
     },
     "execution_count": 62,
     "metadata": {},
     "output_type": "execute_result"
    }
   ],
   "source": [
    "#check!\n",
    "\n",
    "prob = 1 - beta_test.cdf(0.0024)\n",
    "\n",
    "prob"
   ]
  },
  {
   "cell_type": "code",
   "execution_count": 63,
   "id": "e6de5d0d",
   "metadata": {},
   "outputs": [
    {
     "data": {
      "text/plain": [
       "'El test aumenta la tasa de conversion en un -1.32%, con una probabilidad del 100.00%'"
      ]
     },
     "execution_count": 63,
     "metadata": {},
     "output_type": "execute_result"
    }
   ],
   "source": [
    "'''El test aumenta la tasa de conversion en un {:2.2f}%, con una probabilidad del {:2.2f}%'''.format(salto*100, prob*100)"
   ]
  },
  {
   "cell_type": "markdown",
   "id": "c4557216",
   "metadata": {},
   "source": [
    "### Testeo para retention 7\n",
    "\n"
   ]
  },
  {
   "cell_type": "code",
   "execution_count": null,
   "id": "bd47f7cb",
   "metadata": {},
   "outputs": [],
   "source": []
  },
  {
   "cell_type": "code",
   "execution_count": null,
   "id": "854cb56b",
   "metadata": {},
   "outputs": [],
   "source": []
  },
  {
   "cell_type": "code",
   "execution_count": null,
   "id": "f92b2c48",
   "metadata": {},
   "outputs": [],
   "source": []
  },
  {
   "cell_type": "code",
   "execution_count": null,
   "id": "3796623c",
   "metadata": {},
   "outputs": [],
   "source": []
  },
  {
   "cell_type": "markdown",
   "id": "8a76e283",
   "metadata": {},
   "source": [
    "### Conclusiones"
   ]
  },
  {
   "cell_type": "code",
   "execution_count": null,
   "id": "a5794957",
   "metadata": {},
   "outputs": [],
   "source": []
  },
  {
   "cell_type": "code",
   "execution_count": null,
   "id": "f9b6833d",
   "metadata": {},
   "outputs": [],
   "source": []
  },
  {
   "cell_type": "code",
   "execution_count": null,
   "id": "563cfc10",
   "metadata": {},
   "outputs": [],
   "source": []
  },
  {
   "cell_type": "code",
   "execution_count": null,
   "id": "2d1da6df",
   "metadata": {},
   "outputs": [],
   "source": []
  },
  {
   "cell_type": "code",
   "execution_count": null,
   "id": "cooked-magnet",
   "metadata": {},
   "outputs": [],
   "source": [
    "# conclusiones\n",
    "# Explica detalladamente las conclusiones obtenidas de. tu testeo."
   ]
  }
 ],
 "metadata": {
  "finalized": {
   "timestamp": 1642857010293,
   "trusted": true
  },
  "kernelspec": {
   "display_name": "clase",
   "language": "python",
   "name": "clase"
  },
  "language_info": {
   "codemirror_mode": {
    "name": "ipython",
    "version": 3
   },
   "file_extension": ".py",
   "mimetype": "text/x-python",
   "name": "python",
   "nbconvert_exporter": "python",
   "pygments_lexer": "ipython3",
   "version": "3.10.13"
  },
  "toc": {
   "base_numbering": 1,
   "nav_menu": {},
   "number_sections": true,
   "sideBar": true,
   "skip_h1_title": false,
   "title_cell": "Table of Contents",
   "title_sidebar": "Contents",
   "toc_cell": true,
   "toc_position": {},
   "toc_section_display": true,
   "toc_window_display": false
  },
  "varInspector": {
   "cols": {
    "lenName": 16,
    "lenType": 16,
    "lenVar": 40
   },
   "kernels_config": {
    "python": {
     "delete_cmd_postfix": "",
     "delete_cmd_prefix": "del ",
     "library": "var_list.py",
     "varRefreshCmd": "print(var_dic_list())"
    },
    "r": {
     "delete_cmd_postfix": ") ",
     "delete_cmd_prefix": "rm(",
     "library": "var_list.r",
     "varRefreshCmd": "cat(var_dic_list()) "
    }
   },
   "types_to_exclude": [
    "module",
    "function",
    "builtin_function_or_method",
    "instance",
    "_Feature"
   ],
   "window_display": false
  }
 },
 "nbformat": 4,
 "nbformat_minor": 5
}
