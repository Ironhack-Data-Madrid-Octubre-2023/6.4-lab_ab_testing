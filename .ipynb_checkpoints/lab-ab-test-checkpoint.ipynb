{
 "cells": [
  {
   "cell_type": "markdown",
   "id": "angry-pearl",
   "metadata": {
    "toc": true
   },
   "source": [
    "<h1>Table of Contents<span class=\"tocSkip\"></span></h1>\n",
    "<div class=\"toc\"><ul class=\"toc-item\"><li><span><a href=\"#AB-Testing\" data-toc-modified-id=\"AB-Testing-1\"><span class=\"toc-item-num\">1&nbsp;&nbsp;</span>AB-Testing</a></span></li></ul></div>"
   ]
  },
  {
   "cell_type": "markdown",
   "id": "c92ba6e0",
   "metadata": {},
   "source": [
    "# AB-Testing\n",
    "\n",
    "![cats](images/cats.jpeg)\n",
    "\n",
    "\n",
    "Imaginad que somos los cientificos de datos de la empresa de videojuegos Tactile Entertainment. Los desarrolladores del juego Cookie Cats pretenden introducir un cambio en el juego para aumentar la retencion de los jugadores. En cierto nivel del juego los jugadores se encuentran una puerta que les obliga a esperar o a pagar la app. Actualmente la puerta se encuentra en nivel 30 y se pretende pasar al nivel 40, para comprobar la retencion a 1 y 7 dias. Antes de realizar el cambio definitivo en el juego se raliza un test AB.\n",
    "\n",
    "Los datos estan alojados en `data/cookie_cats.csv`. Nuestro grupo de control sera la version actual `gate_30` y el grupo de tratamiento sera la version `gate_40`. Debemos realizar el test para 1 dia de retencion `retention_1` y para 7 dias `retention_7`."
   ]
  },
  {
   "cell_type": "code",
   "execution_count": null,
   "id": "46702653",
   "metadata": {},
   "outputs": [],
   "source": [
    "def f(a, b, c, d):\n",
    "    num = lgamma(a + c) + lgamma(b + d) + lgamma(a + b) + lgamma(c + d)\n",
    "    den = lgamma(a) + lgamma(b) + lgamma(c) + lgamma(d) + lgamma(a + b + c + d)\n",
    "    return np.exp(num - den)\n",
    "\n",
    "\n",
    "def f_iter(a, b, c, d):\n",
    "    while d > 1:\n",
    "        d -= 1\n",
    "        yield f(a, b, c, d) / d\n",
    "        \n",
    "        \n",
    "def g0(a, b, c):    \n",
    "    return np.exp(lgamma(a + b) + lgamma(a + c) - (lgamma(a + b + c) + lgamma(a)))\n",
    "\n",
    "def g(a, b, c, d):\n",
    "    return g0(a, b, c) + sum(f_iter(a, b, c, d))\n",
    "\n",
    "\n",
    "\n",
    "def calc_prob(beta1, beta2):\n",
    "    return g(beta1.args[0], beta1.args[1], beta2.args[0], beta2.args[1])\n",
    "    \n",
    "    \n",
    "\n",
    "def pico(a, b):\n",
    "    return (a-1)/(a+b-2)\n",
    "\n",
    "\n",
    "\n",
    "def plot(betas, names, linf=0, lsup=0.006):\n",
    "    x=np.linspace(linf, lsup, 100)\n",
    "    for f, n in zip(betas, names):\n",
    "        y=f.pdf(x)\n",
    "        y_pico=pico(f.args[0], f.args[1])\n",
    "        y_var=f.var()\n",
    "        plt.plot(x, y, label='{}, tasa de conv: {:.6f} $\\pm$ {:.10f}'.format(n, y_pico, y_var))\n",
    "        plt.yticks([])\n",
    "    plt.legend()\n",
    "    plt.show();\n"
   ]
  },
  {
   "cell_type": "code",
   "execution_count": 1,
   "id": "ac3b2f52",
   "metadata": {},
   "outputs": [],
   "source": [
    "# librerias\n",
    "#%pip install statsmodels\n",
    "import pandas as pd\n",
    "import numpy as np\n",
    "\n",
    "from statsmodels.stats.proportion import proportions_ztest, proportion_confint\n",
    "from scipy.stats import norm, sem\n",
    "\n",
    "import pylab as plt"
   ]
  },
  {
   "cell_type": "code",
   "execution_count": 2,
   "id": "e3cb6b02",
   "metadata": {},
   "outputs": [],
   "source": [
    "#%pip install matplotlib\n",
    "from scipy.stats import beta\n",
    "import numpy as np\n",
    "from math import lgamma\n",
    "import matplotlib.pyplot as plt"
   ]
  },
  {
   "cell_type": "code",
   "execution_count": 3,
   "id": "7fe515c2",
   "metadata": {},
   "outputs": [],
   "source": [
    "# datos\n",
    "cats = pd.read_csv('data/cookie_cats.csv')"
   ]
  },
  {
   "cell_type": "code",
   "execution_count": 4,
   "id": "49b87689",
   "metadata": {},
   "outputs": [
    {
     "data": {
      "text/html": [
       "<div>\n",
       "<style scoped>\n",
       "    .dataframe tbody tr th:only-of-type {\n",
       "        vertical-align: middle;\n",
       "    }\n",
       "\n",
       "    .dataframe tbody tr th {\n",
       "        vertical-align: top;\n",
       "    }\n",
       "\n",
       "    .dataframe thead th {\n",
       "        text-align: right;\n",
       "    }\n",
       "</style>\n",
       "<table border=\"1\" class=\"dataframe\">\n",
       "  <thead>\n",
       "    <tr style=\"text-align: right;\">\n",
       "      <th></th>\n",
       "      <th>userid</th>\n",
       "      <th>version</th>\n",
       "      <th>sum_gamerounds</th>\n",
       "      <th>retention_1</th>\n",
       "      <th>retention_7</th>\n",
       "    </tr>\n",
       "  </thead>\n",
       "  <tbody>\n",
       "    <tr>\n",
       "      <th>0</th>\n",
       "      <td>116</td>\n",
       "      <td>gate_30</td>\n",
       "      <td>3</td>\n",
       "      <td>False</td>\n",
       "      <td>False</td>\n",
       "    </tr>\n",
       "    <tr>\n",
       "      <th>1</th>\n",
       "      <td>337</td>\n",
       "      <td>gate_30</td>\n",
       "      <td>38</td>\n",
       "      <td>True</td>\n",
       "      <td>False</td>\n",
       "    </tr>\n",
       "    <tr>\n",
       "      <th>2</th>\n",
       "      <td>377</td>\n",
       "      <td>gate_40</td>\n",
       "      <td>165</td>\n",
       "      <td>True</td>\n",
       "      <td>False</td>\n",
       "    </tr>\n",
       "    <tr>\n",
       "      <th>3</th>\n",
       "      <td>483</td>\n",
       "      <td>gate_40</td>\n",
       "      <td>1</td>\n",
       "      <td>False</td>\n",
       "      <td>False</td>\n",
       "    </tr>\n",
       "    <tr>\n",
       "      <th>4</th>\n",
       "      <td>488</td>\n",
       "      <td>gate_40</td>\n",
       "      <td>179</td>\n",
       "      <td>True</td>\n",
       "      <td>True</td>\n",
       "    </tr>\n",
       "  </tbody>\n",
       "</table>\n",
       "</div>"
      ],
      "text/plain": [
       "   userid  version  sum_gamerounds  retention_1  retention_7\n",
       "0     116  gate_30               3        False        False\n",
       "1     337  gate_30              38         True        False\n",
       "2     377  gate_40             165         True        False\n",
       "3     483  gate_40               1        False        False\n",
       "4     488  gate_40             179         True         True"
      ]
     },
     "execution_count": 4,
     "metadata": {},
     "output_type": "execute_result"
    }
   ],
   "source": [
    "cats.head()"
   ]
  },
  {
   "cell_type": "code",
   "execution_count": 5,
   "id": "f2e6147a",
   "metadata": {},
   "outputs": [],
   "source": [
    "# transformacion\n",
    "\n",
    "#cats['version'] = cats['version'].apply(lambda x: 0 if x == 'gate_30' else 1)\n"
   ]
  },
  {
   "cell_type": "code",
   "execution_count": 6,
   "id": "1b176546",
   "metadata": {},
   "outputs": [
    {
     "data": {
      "text/html": [
       "<div>\n",
       "<style scoped>\n",
       "    .dataframe tbody tr th:only-of-type {\n",
       "        vertical-align: middle;\n",
       "    }\n",
       "\n",
       "    .dataframe tbody tr th {\n",
       "        vertical-align: top;\n",
       "    }\n",
       "\n",
       "    .dataframe thead th {\n",
       "        text-align: right;\n",
       "    }\n",
       "</style>\n",
       "<table border=\"1\" class=\"dataframe\">\n",
       "  <thead>\n",
       "    <tr style=\"text-align: right;\">\n",
       "      <th></th>\n",
       "      <th>userid</th>\n",
       "      <th>version</th>\n",
       "      <th>sum_gamerounds</th>\n",
       "      <th>retention_1</th>\n",
       "      <th>retention_7</th>\n",
       "    </tr>\n",
       "  </thead>\n",
       "  <tbody>\n",
       "    <tr>\n",
       "      <th>0</th>\n",
       "      <td>116</td>\n",
       "      <td>gate_30</td>\n",
       "      <td>3</td>\n",
       "      <td>False</td>\n",
       "      <td>False</td>\n",
       "    </tr>\n",
       "    <tr>\n",
       "      <th>1</th>\n",
       "      <td>337</td>\n",
       "      <td>gate_30</td>\n",
       "      <td>38</td>\n",
       "      <td>True</td>\n",
       "      <td>False</td>\n",
       "    </tr>\n",
       "    <tr>\n",
       "      <th>2</th>\n",
       "      <td>377</td>\n",
       "      <td>gate_40</td>\n",
       "      <td>165</td>\n",
       "      <td>True</td>\n",
       "      <td>False</td>\n",
       "    </tr>\n",
       "    <tr>\n",
       "      <th>3</th>\n",
       "      <td>483</td>\n",
       "      <td>gate_40</td>\n",
       "      <td>1</td>\n",
       "      <td>False</td>\n",
       "      <td>False</td>\n",
       "    </tr>\n",
       "    <tr>\n",
       "      <th>4</th>\n",
       "      <td>488</td>\n",
       "      <td>gate_40</td>\n",
       "      <td>179</td>\n",
       "      <td>True</td>\n",
       "      <td>True</td>\n",
       "    </tr>\n",
       "  </tbody>\n",
       "</table>\n",
       "</div>"
      ],
      "text/plain": [
       "   userid  version  sum_gamerounds  retention_1  retention_7\n",
       "0     116  gate_30               3        False        False\n",
       "1     337  gate_30              38         True        False\n",
       "2     377  gate_40             165         True        False\n",
       "3     483  gate_40               1        False        False\n",
       "4     488  gate_40             179         True         True"
      ]
     },
     "execution_count": 6,
     "metadata": {},
     "output_type": "execute_result"
    }
   ],
   "source": [
    "cats.head()"
   ]
  },
  {
   "cell_type": "code",
   "execution_count": 7,
   "id": "e2d0f22a",
   "metadata": {},
   "outputs": [
    {
     "data": {
      "text/plain": [
       "(90189, 5)"
      ]
     },
     "execution_count": 7,
     "metadata": {},
     "output_type": "execute_result"
    }
   ],
   "source": [
    "cats.shape"
   ]
  },
  {
   "cell_type": "code",
   "execution_count": 8,
   "id": "7f94a516",
   "metadata": {},
   "outputs": [
    {
     "data": {
      "text/plain": [
       "version\n",
       "gate_40    45489\n",
       "gate_30    44700\n",
       "Name: count, dtype: int64"
      ]
     },
     "execution_count": 8,
     "metadata": {},
     "output_type": "execute_result"
    }
   ],
   "source": [
    "cats['version'].value_counts()\n"
   ]
  },
  {
   "cell_type": "code",
   "execution_count": 9,
   "id": "cdd49c92",
   "metadata": {},
   "outputs": [],
   "source": [
    "#gate 30 = 0\n",
    "#gate 40 = 1"
   ]
  },
  {
   "cell_type": "code",
   "execution_count": 10,
   "id": "334a8bd1",
   "metadata": {},
   "outputs": [],
   "source": [
    "#Ahora True = 1 y False = 0\n",
    "cats['retention_1'] = cats['retention_1'].apply(lambda x: 1 if x else 0)\n",
    "cats['retention_7'] = cats['retention_7'].apply(lambda x: 1 if x else 0)"
   ]
  },
  {
   "cell_type": "code",
   "execution_count": 11,
   "id": "c166d797",
   "metadata": {},
   "outputs": [],
   "source": [
    "#Paso 1: Crear la distribución Beta-Binomial para el grupo de control (gate_30) y el grupo de tratamiento (gate_40)."
   ]
  },
  {
   "cell_type": "code",
   "execution_count": 12,
   "id": "12105eab",
   "metadata": {},
   "outputs": [
    {
     "data": {
      "text/plain": [
       "(44700, 45489)"
      ]
     },
     "execution_count": 12,
     "metadata": {},
     "output_type": "execute_result"
    }
   ],
   "source": [
    "#Impresiones ret 1\n",
    "imps1_control = len(cats[cats['version'] == 'gate_30']['retention_1'])\n",
    "imps1_test = len(cats[cats['version'] == 'gate_40']['retention_1'])\n",
    "imps1_control,imps1_test "
   ]
  },
  {
   "cell_type": "code",
   "execution_count": 108,
   "id": "9e5fb68f",
   "metadata": {},
   "outputs": [
    {
     "data": {
      "text/plain": [
       "(20034, 20119)"
      ]
     },
     "execution_count": 108,
     "metadata": {},
     "output_type": "execute_result"
    }
   ],
   "source": [
    "#conversiones ret 1\n",
    "convs1_control = len(cats[(cats['version'] == 'gate_30') & (cats['retention_1'] == 1)])\n",
    "convs1_test = len(cats[(cats['version'] == 'gate_40') & (cats['retention_1'] == 1)])\n",
    "convs1_control, convs1_test"
   ]
  },
  {
   "cell_type": "code",
   "execution_count": 109,
   "id": "c3fa4494",
   "metadata": {},
   "outputs": [
    {
     "data": {
      "text/plain": [
       "(44700, 45489)"
      ]
     },
     "execution_count": 109,
     "metadata": {},
     "output_type": "execute_result"
    }
   ],
   "source": [
    "#Impresiones ret 7\n",
    "imps7_control = len(cats[cats['version'] == 'gate_30']['retention_7'])\n",
    "imps7_test = len(cats[cats['version'] == 'gate_40']['retention_7'])\n",
    "imps7_control,imps7_test "
   ]
  },
  {
   "cell_type": "code",
   "execution_count": 110,
   "id": "e49814e7",
   "metadata": {},
   "outputs": [
    {
     "data": {
      "text/plain": [
       "(8502, 8279)"
      ]
     },
     "execution_count": 110,
     "metadata": {},
     "output_type": "execute_result"
    }
   ],
   "source": [
    "#conversiones ret 7\n",
    "convs7_control = len(cats[(cats['version'] == 'gate_30') & (cats['retention_7'] == 1)])\n",
    "convs7_test = len(cats[(cats['version'] == 'gate_40') & (cats['retention_7'] == 1)])\n",
    "convs7_control, convs7_test"
   ]
  },
  {
   "cell_type": "markdown",
   "id": "9ac0ac99",
   "metadata": {},
   "source": [
    "# TESTEO PARA RETENTION 1"
   ]
  },
  {
   "cell_type": "code",
   "execution_count": 125,
   "id": "4d2b9e44",
   "metadata": {},
   "outputs": [],
   "source": [
    "#RET 1\n",
    "# Datos observados para el grupo de control (gate_30)\n",
    "imps1_control, convs1_control  = 44700, 20034\n",
    "\n",
    "# Datos observados para el grupo de tratamiento (gate_40)\n",
    "imps1_test, convs1_test = 45489, 20119\n",
    "\n"
   ]
  },
  {
   "cell_type": "code",
   "execution_count": 126,
   "id": "b3f2ddda",
   "metadata": {},
   "outputs": [
    {
     "data": {
      "text/plain": [
       "0.4481879194630872"
      ]
     },
     "execution_count": 126,
     "metadata": {},
     "output_type": "execute_result"
    }
   ],
   "source": [
    "#Tasas de conversión\n",
    "CR_ctrl1 = convs1_control/imps1_control\n",
    "CR_test1 = convs1_test/imps1_test\n",
    "\n",
    "CR_ctrl1"
   ]
  },
  {
   "cell_type": "code",
   "execution_count": 127,
   "id": "8810eaad",
   "metadata": {},
   "outputs": [],
   "source": [
    "# A prioris para el grupo de control y tratamiento\n",
    "a_C1, b_C1 = 1 + convs1_control, 1 + imps1_control - convs1_control\n",
    "a_T1, b_T1 = 1 + convs1_test, 1 + imps1_test - convs1_test"
   ]
  },
  {
   "cell_type": "code",
   "execution_count": 128,
   "id": "12e35d39",
   "metadata": {},
   "outputs": [],
   "source": [
    "beta_control1 = beta(a_C1, b_C1)\n",
    "\n",
    "beta_test1 = beta(a_T1, b_T1)"
   ]
  },
  {
   "cell_type": "code",
   "execution_count": 129,
   "id": "8e21b4c0",
   "metadata": {},
   "outputs": [
    {
     "data": {
      "text/plain": [
       "(0.44819023757326293, 0.44228528719966587)"
      ]
     },
     "execution_count": 129,
     "metadata": {},
     "output_type": "execute_result"
    }
   ],
   "source": [
    "beta_control1.mean(), beta_test1.mean()"
   ]
  },
  {
   "cell_type": "code",
   "execution_count": 143,
   "id": "72bea568",
   "metadata": {},
   "outputs": [],
   "source": [
    "x=np.linspace(0.43, 0.46, 1000)\n",
    "\n",
    "def plot(betas, nombres):\n",
    "    \n",
    "    for bet, nom in zip(betas, nombres):\n",
    "        \n",
    "        y=bet.pdf(x)\n",
    "        y_media=bet.mean()\n",
    "        y_std=bet.std()\n",
    "        \n",
    "        plt.plot(x, y, label='{}, tasa de conv: {:.6f} $\\pm$ {:.10f}'.format(nom, y_media, y_std))\n",
    "        plt.yticks([])\n",
    "        \n",
    "    plt.legend()\n",
    "    plt.show();"
   ]
  },
  {
   "cell_type": "code",
   "execution_count": 144,
   "id": "050a52ef",
   "metadata": {},
   "outputs": [
    {
     "data": {
      "image/png": "[encoded data removed]",
      "text/plain": [
       "<Figure size 640x480 with 1 Axes>"
      ]
     },
     "metadata": {},
     "output_type": "display_data"
    }
   ],
   "source": [
    "plot([beta_control1, beta_test1], ['CON', 'TEST'])"
   ]
  },
  {
   "cell_type": "code",
   "execution_count": 145,
   "id": "269f67b4",
   "metadata": {},
   "outputs": [
    {
     "data": {
      "text/plain": [
       "0.013175098158249857"
      ]
     },
     "execution_count": 145,
     "metadata": {},
     "output_type": "execute_result"
    }
   ],
   "source": [
    "salto1 = (beta_control1.mean() - beta_test1.mean())/beta_control1.mean()\n",
    "\n",
    "salto1"
   ]
  },
  {
   "cell_type": "code",
   "execution_count": 183,
   "id": "a3dd61c9",
   "metadata": {},
   "outputs": [
    {
     "data": {
      "text/plain": [
       "0.87812936168366"
      ]
     },
     "execution_count": 183,
     "metadata": {},
     "output_type": "execute_result"
    }
   ],
   "source": [
    "prob1 = beta_test1.cdf(0.445)\n",
    "\n",
    "prob1"
   ]
  },
  {
   "cell_type": "code",
   "execution_count": 190,
   "id": "186915ee",
   "metadata": {},
   "outputs": [
    {
     "data": {
      "text/plain": [
       "'El test disminuye la tasa de conversion en un 1.32%, con una probabilidad del 87.81%'"
      ]
     },
     "execution_count": 190,
     "metadata": {},
     "output_type": "execute_result"
    }
   ],
   "source": [
    "'''El test disminuye la tasa de conversion en un {:2.2f}%, con una probabilidad del {:2.2f}%'''.format(salto1*100, prob1*100)"
   ]
  },
  {
   "cell_type": "markdown",
   "id": "31c62560",
   "metadata": {},
   "source": [
    "# TESTEO PARA RETENTION 7"
   ]
  },
  {
   "cell_type": "code",
   "execution_count": 148,
   "id": "382c2344",
   "metadata": {},
   "outputs": [],
   "source": [
    "#RET 1\n",
    "# Datos observados para el grupo de control (gate_30)\n",
    "imps7_control, convs7_control  = 44700, 8502\n",
    "\n",
    "# Datos observados para el grupo de tratamiento (gate_40)\n",
    "imps7_test, convs7_test = 45489, 8279"
   ]
  },
  {
   "cell_type": "code",
   "execution_count": 149,
   "id": "23e0f8f2",
   "metadata": {},
   "outputs": [],
   "source": [
    "#Tasas de conversión\n",
    "CR_ctrl7 = convs7_control/imps7_control\n",
    "CR_test7 = convs7_test/imps7_test"
   ]
  },
  {
   "cell_type": "code",
   "execution_count": 150,
   "id": "819f020f",
   "metadata": {},
   "outputs": [],
   "source": [
    "# A prioris para el grupo de control y tratamiento\n",
    "a_C7, b_C7 = 1 + convs7_control, 1 + imps7_control - convs7_control\n",
    "a_T7, b_T7 = 1 + convs7_test, 1 + imps7_test - convs7_test"
   ]
  },
  {
   "cell_type": "code",
   "execution_count": 151,
   "id": "4cd5260d",
   "metadata": {},
   "outputs": [],
   "source": [
    "beta_control7 = beta(a_C7, b_C7)\n",
    "\n",
    "beta_test7 = beta(a_T7, b_T7)"
   ]
  },
  {
   "cell_type": "code",
   "execution_count": 152,
   "id": "1d3091e6",
   "metadata": {},
   "outputs": [
    {
     "data": {
      "text/plain": [
       "(0.19021520289919913, 0.18201402475214878)"
      ]
     },
     "execution_count": 152,
     "metadata": {},
     "output_type": "execute_result"
    }
   ],
   "source": [
    "beta_control7.mean(), beta_test7.mean()"
   ]
  },
  {
   "cell_type": "code",
   "execution_count": 177,
   "id": "5b90c429",
   "metadata": {},
   "outputs": [],
   "source": [
    "x=np.linspace(0.17, 0.2, 1000)\n",
    "\n",
    "def plot(betas, nombres):\n",
    "    \n",
    "    for bet, nom in zip(betas, nombres):\n",
    "        \n",
    "        y=bet.pdf(x)\n",
    "        y_media=bet.mean()\n",
    "        y_std=bet.std()\n",
    "        \n",
    "        plt.plot(x, y, label='{}, tasa de conv: {:.6f} $\\pm$ {:.10f}'.format(nom, y_media, y_std))\n",
    "        plt.yticks([])\n",
    "        \n",
    "    plt.legend()\n",
    "    plt.show();"
   ]
  },
  {
   "cell_type": "code",
   "execution_count": 178,
   "id": "728ffc45",
   "metadata": {},
   "outputs": [
    {
     "data": {
      "image/png": "[encoded data removed]",
      "text/plain": [
       "<Figure size 640x480 with 1 Axes>"
      ]
     },
     "metadata": {},
     "output_type": "display_data"
    }
   ],
   "source": [
    "plot([beta_control7, beta_test7], ['CON', 'TEST'])"
   ]
  },
  {
   "cell_type": "code",
   "execution_count": 187,
   "id": "bd52307f",
   "metadata": {},
   "outputs": [
    {
     "data": {
      "text/plain": [
       "0.9858653005312228"
      ]
     },
     "execution_count": 187,
     "metadata": {},
     "output_type": "execute_result"
    }
   ],
   "source": [
    "prob7 = beta_test7.cdf(0.186)\n",
    "\n",
    "prob7"
   ]
  },
  {
   "cell_type": "code",
   "execution_count": 189,
   "id": "7531fdae",
   "metadata": {},
   "outputs": [
    {
     "data": {
      "text/plain": [
       "'El test disminuye la tasa de conversion en un 4.31%, con una probabilidad del 98.59%'"
      ]
     },
     "execution_count": 189,
     "metadata": {},
     "output_type": "execute_result"
    }
   ],
   "source": [
    "'''El test disminuye la tasa de conversion en un {:2.2f}%, con una probabilidad del {:2.2f}%'''.format(salto7*100, prob7*100)"
   ]
  },
  {
   "cell_type": "code",
   "execution_count": null,
   "id": "053139b9",
   "metadata": {},
   "outputs": [],
   "source": [
    "#Conclusiones:\n",
    "\n",
    "'En la retention 1, el test disminuye la tasa de conversion en un 1.32%, con una probabilidad del 87.81%'\n",
    "'En la retention 7, el test disminuye la tasa de conversion en un 4.31%, con una probabilidad del 98.59%'\n",
    "\n",
    "#Por lo tanto , el test funciona peor que el control en ambos casos."
   ]
  }
 ],
 "metadata": {
  "finalized": {
   "timestamp": 1642857010293,
   "trusted": true
  },
  "kernelspec": {
   "display_name": "clase",
   "language": "python",
   "name": "clase"
  },
  "language_info": {
   "codemirror_mode": {
    "name": "ipython",
    "version": 3
   },
   "file_extension": ".py",
   "mimetype": "text/x-python",
   "name": "python",
   "nbconvert_exporter": "python",
   "pygments_lexer": "ipython3",
   "version": "3.10.13"
  },
  "toc": {
   "base_numbering": 1,
   "nav_menu": {},
   "number_sections": true,
   "sideBar": true,
   "skip_h1_title": false,
   "title_cell": "Table of Contents",
   "title_sidebar": "Contents",
   "toc_cell": true,
   "toc_position": {},
   "toc_section_display": true,
   "toc_window_display": false
  },
  "varInspector": {
   "cols": {
    "lenName": 16,
    "lenType": 16,
    "lenVar": 40
   },
   "kernels_config": {
    "python": {
     "delete_cmd_postfix": "",
     "delete_cmd_prefix": "del ",
     "library": "var_list.py",
     "varRefreshCmd": "print(var_dic_list())"
    },
    "r": {
     "delete_cmd_postfix": ") ",
     "delete_cmd_prefix": "rm(",
     "library": "var_list.r",
     "varRefreshCmd": "cat(var_dic_list()) "
    }
   },
   "types_to_exclude": [
    "module",
    "function",
    "builtin_function_or_method",
    "instance",
    "_Feature"
   ],
   "window_display": false
  }
 },
 "nbformat": 4,
 "nbformat_minor": 5
}
