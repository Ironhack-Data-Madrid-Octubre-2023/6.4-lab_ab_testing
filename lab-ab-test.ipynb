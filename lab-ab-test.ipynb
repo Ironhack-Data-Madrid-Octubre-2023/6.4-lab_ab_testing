{
 "cells": [
  {
   "cell_type": "markdown",
   "id": "angry-pearl",
   "metadata": {
    "toc": true
   },
   "source": [
    "<h1>Table of Contents<span class=\"tocSkip\"></span></h1>\n",
    "<div class=\"toc\"><ul class=\"toc-item\"><li><span><a href=\"#AB-Testing\" data-toc-modified-id=\"AB-Testing-1\"><span class=\"toc-item-num\">1&nbsp;&nbsp;</span>AB-Testing</a></span></li></ul></div>"
   ]
  },
  {
   "cell_type": "markdown",
   "id": "c92ba6e0",
   "metadata": {},
   "source": [
    "# AB-Testing\n",
    "\n",
    "![cats](images/cats.jpeg)\n",
    "\n",
    "\n",
    "Imaginad que somos los cientificos de datos de la empresa de videojuegos Tactile Entertainment. Los desarrolladores del juego Cookie Cats pretenden introducir un cambio en el juego para aumentar la retencion de los jugadores. En cierto nivel del juego los jugadores se encuentran una puerta que les obliga a esperar o a pagar la app. Actualmente la puerta se encuentra en nivel 30 y se pretende pasar al nivel 40, para comprobar la retencion a 1 y 7 dias. Antes de realizar el cambio definitivo en el juego se raliza un test AB.\n",
    "\n",
    "Los datos estan alojados en `data/cookie_cats.csv`. Nuestro grupo de control sera la version actual `gate_30` y el grupo de tratamiento sera la version `gate_40`. Debemos realizar el test para 1 dia de retencion `retention_1` y para 7 dias `retention_7`."
   ]
  },
  {
   "cell_type": "code",
   "execution_count": 2,
   "id": "ac3b2f52",
   "metadata": {},
   "outputs": [],
   "source": [
    "# librerias\n",
    "\n",
    "import pandas as pd\n",
    "import numpy as np\n",
    "\n",
    "from statsmodels.stats.proportion import proportions_ztest, proportion_confint\n",
    "from scipy.stats import norm, sem\n",
    "\n",
    "import pylab as plt\n",
    "\n",
    "from scipy.stats import bernoulli, beta   \n",
    "from bayes import *"
   ]
  },
  {
   "cell_type": "code",
   "execution_count": 3,
   "id": "7fe515c2",
   "metadata": {},
   "outputs": [
    {
     "data": {
      "text/html": [
       "<div>\n",
       "<style scoped>\n",
       "    .dataframe tbody tr th:only-of-type {\n",
       "        vertical-align: middle;\n",
       "    }\n",
       "\n",
       "    .dataframe tbody tr th {\n",
       "        vertical-align: top;\n",
       "    }\n",
       "\n",
       "    .dataframe thead th {\n",
       "        text-align: right;\n",
       "    }\n",
       "</style>\n",
       "<table border=\"1\" class=\"dataframe\">\n",
       "  <thead>\n",
       "    <tr style=\"text-align: right;\">\n",
       "      <th></th>\n",
       "      <th>userid</th>\n",
       "      <th>version</th>\n",
       "      <th>sum_gamerounds</th>\n",
       "      <th>retention_1</th>\n",
       "      <th>retention_7</th>\n",
       "    </tr>\n",
       "  </thead>\n",
       "  <tbody>\n",
       "    <tr>\n",
       "      <th>0</th>\n",
       "      <td>116</td>\n",
       "      <td>gate_30</td>\n",
       "      <td>3</td>\n",
       "      <td>False</td>\n",
       "      <td>False</td>\n",
       "    </tr>\n",
       "    <tr>\n",
       "      <th>1</th>\n",
       "      <td>337</td>\n",
       "      <td>gate_30</td>\n",
       "      <td>38</td>\n",
       "      <td>True</td>\n",
       "      <td>False</td>\n",
       "    </tr>\n",
       "    <tr>\n",
       "      <th>2</th>\n",
       "      <td>377</td>\n",
       "      <td>gate_40</td>\n",
       "      <td>165</td>\n",
       "      <td>True</td>\n",
       "      <td>False</td>\n",
       "    </tr>\n",
       "    <tr>\n",
       "      <th>3</th>\n",
       "      <td>483</td>\n",
       "      <td>gate_40</td>\n",
       "      <td>1</td>\n",
       "      <td>False</td>\n",
       "      <td>False</td>\n",
       "    </tr>\n",
       "    <tr>\n",
       "      <th>4</th>\n",
       "      <td>488</td>\n",
       "      <td>gate_40</td>\n",
       "      <td>179</td>\n",
       "      <td>True</td>\n",
       "      <td>True</td>\n",
       "    </tr>\n",
       "  </tbody>\n",
       "</table>\n",
       "</div>"
      ],
      "text/plain": [
       "   userid  version  sum_gamerounds  retention_1  retention_7\n",
       "0     116  gate_30               3        False        False\n",
       "1     337  gate_30              38         True        False\n",
       "2     377  gate_40             165         True        False\n",
       "3     483  gate_40               1        False        False\n",
       "4     488  gate_40             179         True         True"
      ]
     },
     "execution_count": 3,
     "metadata": {},
     "output_type": "execute_result"
    }
   ],
   "source": [
    "data = pd.read_csv('data/cookie_cats.csv')\n",
    "\n",
    "data.head()"
   ]
  },
  {
   "cell_type": "code",
   "execution_count": 4,
   "id": "8d67894e",
   "metadata": {
    "scrolled": true
   },
   "outputs": [
    {
     "data": {
      "text/plain": [
       "(90189, 5)"
      ]
     },
     "execution_count": 4,
     "metadata": {},
     "output_type": "execute_result"
    }
   ],
   "source": [
    "data.shape"
   ]
  },
  {
   "cell_type": "code",
   "execution_count": 5,
   "id": "7abe8800",
   "metadata": {},
   "outputs": [
    {
     "data": {
      "text/plain": [
       "version\n",
       "gate_40    45489\n",
       "gate_30    44700\n",
       "Name: count, dtype: int64"
      ]
     },
     "execution_count": 5,
     "metadata": {},
     "output_type": "execute_result"
    }
   ],
   "source": [
    "data['version'].value_counts()"
   ]
  },
  {
   "cell_type": "code",
   "execution_count": 6,
   "id": "de56ea31",
   "metadata": {},
   "outputs": [
    {
     "name": "stdout",
     "output_type": "stream",
     "text": [
      "<class 'pandas.core.frame.DataFrame'>\n",
      "RangeIndex: 90189 entries, 0 to 90188\n",
      "Data columns (total 5 columns):\n",
      " #   Column          Non-Null Count  Dtype \n",
      "---  ------          --------------  ----- \n",
      " 0   userid          90189 non-null  int64 \n",
      " 1   version         90189 non-null  object\n",
      " 2   sum_gamerounds  90189 non-null  int64 \n",
      " 3   retention_1     90189 non-null  bool  \n",
      " 4   retention_7     90189 non-null  bool  \n",
      "dtypes: bool(2), int64(2), object(1)\n",
      "memory usage: 2.2+ MB\n"
     ]
    }
   ],
   "source": [
    "data.info()"
   ]
  },
  {
   "cell_type": "code",
   "execution_count": 7,
   "id": "67769949",
   "metadata": {},
   "outputs": [
    {
     "data": {
      "text/html": [
       "<div>\n",
       "<style scoped>\n",
       "    .dataframe tbody tr th:only-of-type {\n",
       "        vertical-align: middle;\n",
       "    }\n",
       "\n",
       "    .dataframe tbody tr th {\n",
       "        vertical-align: top;\n",
       "    }\n",
       "\n",
       "    .dataframe thead th {\n",
       "        text-align: right;\n",
       "    }\n",
       "</style>\n",
       "<table border=\"1\" class=\"dataframe\">\n",
       "  <thead>\n",
       "    <tr style=\"text-align: right;\">\n",
       "      <th>retention_1</th>\n",
       "      <th>False</th>\n",
       "      <th>True</th>\n",
       "    </tr>\n",
       "    <tr>\n",
       "      <th>version</th>\n",
       "      <th></th>\n",
       "      <th></th>\n",
       "    </tr>\n",
       "  </thead>\n",
       "  <tbody>\n",
       "    <tr>\n",
       "      <th>gate_30</th>\n",
       "      <td>24666</td>\n",
       "      <td>20034</td>\n",
       "    </tr>\n",
       "    <tr>\n",
       "      <th>gate_40</th>\n",
       "      <td>25370</td>\n",
       "      <td>20119</td>\n",
       "    </tr>\n",
       "  </tbody>\n",
       "</table>\n",
       "</div>"
      ],
      "text/plain": [
       "retention_1  False  True \n",
       "version                  \n",
       "gate_30      24666  20034\n",
       "gate_40      25370  20119"
      ]
     },
     "execution_count": 7,
     "metadata": {},
     "output_type": "execute_result"
    }
   ],
   "source": [
    "ret_1 = pd.crosstab(data.version, data.retention_1, )\n",
    "ret_1\n",
    "\n",
    "# tiene que haber independencia. Una persona que entre en la version A no puede entrar en la versión B. \n",
    "# esto se observa a través del userID. "
   ]
  },
  {
   "cell_type": "code",
   "execution_count": 8,
   "id": "ca425448",
   "metadata": {},
   "outputs": [
    {
     "data": {
      "image/png": "[encoded data removed]",
      "text/plain": [
       "<Figure size 640x480 with 1 Axes>"
      ]
     },
     "metadata": {},
     "output_type": "display_data"
    }
   ],
   "source": [
    "pd.crosstab(data.version, data.retention_1).plot(kind='bar');"
   ]
  },
  {
   "cell_type": "markdown",
   "id": "2acc7343",
   "metadata": {},
   "source": [
    "### Testeo para Retention_1"
   ]
  },
  {
   "cell_type": "code",
   "execution_count": 9,
   "id": "7d14487b",
   "metadata": {},
   "outputs": [
    {
     "data": {
      "text/plain": [
       "version\n",
       "gate_40    45489\n",
       "gate_30    44700\n",
       "Name: count, dtype: int64"
      ]
     },
     "execution_count": 9,
     "metadata": {},
     "output_type": "execute_result"
    }
   ],
   "source": [
    "data['version'].value_counts()"
   ]
  },
  {
   "cell_type": "code",
   "execution_count": 10,
   "id": "9624a593",
   "metadata": {},
   "outputs": [
    {
     "data": {
      "text/plain": [
       "44700"
      ]
     },
     "execution_count": 10,
     "metadata": {},
     "output_type": "execute_result"
    }
   ],
   "source": [
    "impr_gate_30 = data[data['version'] == 'gate_30'].shape[0]\n",
    "impr_gate_30"
   ]
  },
  {
   "cell_type": "code",
   "execution_count": 11,
   "id": "401534bf",
   "metadata": {},
   "outputs": [
    {
     "data": {
      "text/plain": [
       "45489"
      ]
     },
     "execution_count": 11,
     "metadata": {},
     "output_type": "execute_result"
    }
   ],
   "source": [
    "impr_gate_40 = data[data['version'] == 'gate_40'].shape[0]\n",
    "impr_gate_40"
   ]
  },
  {
   "cell_type": "code",
   "execution_count": 12,
   "id": "176442b7",
   "metadata": {
    "scrolled": true
   },
   "outputs": [
    {
     "data": {
      "text/plain": [
       "20034"
      ]
     },
     "execution_count": 12,
     "metadata": {},
     "output_type": "execute_result"
    }
   ],
   "source": [
    "# selecciono grupos\n",
    "conv_gate_30 = data[data.version=='gate_30']['retention_1'].sum()   # muestra del tratamiento\n",
    "conv_gate_30"
   ]
  },
  {
   "cell_type": "code",
   "execution_count": 13,
   "id": "5a1c5594",
   "metadata": {},
   "outputs": [
    {
     "data": {
      "text/plain": [
       "20119"
      ]
     },
     "execution_count": 13,
     "metadata": {},
     "output_type": "execute_result"
    }
   ],
   "source": [
    "conv_gate_40 = data[data.version=='gate_40']['retention_1'].sum()   # muestra del tratamiento\n",
    "conv_gate_40"
   ]
  },
  {
   "cell_type": "code",
   "execution_count": 26,
   "id": "555a625f",
   "metadata": {},
   "outputs": [
    {
     "data": {
      "text/plain": [
       "'Tasas conversion: Control: 0.4481879194630872, Test: 0.44228274967574577'"
      ]
     },
     "execution_count": 26,
     "metadata": {},
     "output_type": "execute_result"
    }
   ],
   "source": [
    "impr_gate_30, conv_gate_30= 44700, 20034\n",
    "impr_gate_40, conv_gate_40= 45489, 20119\n",
    "\n",
    "#tasas de conversion.\n",
    "\n",
    "CR_control = conv_gate_30/impr_gate_30\n",
    "CR_trat = conv_gate_40/impr_gate_40\n",
    "\n",
    "f'Tasas conversion: Control: {CR_control}, Test: {CR_trat}'"
   ]
  },
  {
   "cell_type": "code",
   "execution_count": 27,
   "id": "65a6c2d4",
   "metadata": {},
   "outputs": [],
   "source": [
    "a_C, b_C = 1 + conv_gate_30, 1 + impr_gate_30 - conv_gate_30    # alpha de control y beta de control\n",
    "\n",
    "a_T, b_T = 1 + conv_gate_40, 1 + impr_gate_40 - conv_gate_40    # alpha de testeo y beta de testeo\n",
    "\n",
    "\n",
    "beta_control = beta(a_C, b_C)\n",
    "\n",
    "beta_test = beta(a_T, b_T)"
   ]
  },
  {
   "cell_type": "code",
   "execution_count": 28,
   "id": "af88167e",
   "metadata": {},
   "outputs": [
    {
     "data": {
      "text/plain": [
       "(<scipy.stats._distn_infrastructure.rv_continuous_frozen at 0x7fea30555540>,\n",
       " <scipy.stats._distn_infrastructure.rv_continuous_frozen at 0x7fea30555c00>)"
      ]
     },
     "execution_count": 28,
     "metadata": {},
     "output_type": "execute_result"
    }
   ],
   "source": [
    "beta_control , beta_test"
   ]
  },
  {
   "cell_type": "code",
   "execution_count": 29,
   "id": "c31bd12a",
   "metadata": {},
   "outputs": [
    {
     "data": {
      "text/plain": [
       "(0.44819023757326293, 0.44228528719966587)"
      ]
     },
     "execution_count": 29,
     "metadata": {},
     "output_type": "execute_result"
    }
   ],
   "source": [
    "beta_control.mean(), beta_test.mean() "
   ]
  },
  {
   "cell_type": "code",
   "execution_count": 30,
   "id": "de272fce",
   "metadata": {},
   "outputs": [],
   "source": [
    "x = np.linspace(0.430, 0.50, 1000)    # espaciado lineal\n",
    "\n",
    "def plot(betas, nombres):\n",
    "    \n",
    "    for bet, nom in zip(betas, nombres):\n",
    "        \n",
    "        y=bet.pdf(x)\n",
    "        y_media=bet.mean()\n",
    "        y_std=bet.std()\n",
    "        \n",
    "        plt.plot(x, y, label='{}, tasa de conv: {:.6f} $\\pm$ {:.10f}'.format(nom, y_media, y_std))\n",
    "        plt.yticks([])\n",
    "        \n",
    "    plt.legend()\n",
    "    plt.show();"
   ]
  },
  {
   "cell_type": "code",
   "execution_count": 69,
   "id": "8818ed27",
   "metadata": {},
   "outputs": [
    {
     "data": {
      "image/png": "[encoded data removed]",
      "text/plain": [
       "<Figure size 640x480 with 1 Axes>"
      ]
     },
     "metadata": {},
     "output_type": "display_data"
    }
   ],
   "source": [
    "plot([beta_control, beta_test], ['Control', 'Testeo'])"
   ]
  },
  {
   "cell_type": "code",
   "execution_count": 71,
   "id": "8c7e6ff1",
   "metadata": {},
   "outputs": [
    {
     "data": {
      "text/plain": [
       "0.013175098158249857"
      ]
     },
     "execution_count": 71,
     "metadata": {},
     "output_type": "execute_result"
    }
   ],
   "source": [
    "salto = (beta_control.mean() - beta_test.mean())/beta_control.mean()\n",
    "\n",
    "salto"
   ]
  },
  {
   "cell_type": "code",
   "execution_count": 89,
   "id": "15dee1cb",
   "metadata": {},
   "outputs": [
    {
     "data": {
      "text/plain": [
       "0.9125454775856433"
      ]
     },
     "execution_count": 89,
     "metadata": {},
     "output_type": "execute_result"
    }
   ],
   "source": [
    "prob = 1 - beta_control.cdf(0.445)\n",
    "prob"
   ]
  },
  {
   "cell_type": "code",
   "execution_count": 90,
   "id": "eead2271",
   "metadata": {},
   "outputs": [
    {
     "data": {
      "text/plain": [
       "'El control aumenta la tasa de conversion en un 1.32%, con una probabilidad del 91.25%'"
      ]
     },
     "execution_count": 90,
     "metadata": {},
     "output_type": "execute_result"
    }
   ],
   "source": [
    "'''El control aumenta la tasa de conversion en un {:2.2f}%, con una probabilidad del {:2.2f}%'''.format(salto*100, prob*100)"
   ]
  },
  {
   "cell_type": "raw",
   "id": "6573652b",
   "metadata": {},
   "source": [
    "El salto es aproximadamente 1.32%, lo que sugiere que la versión de control ('gate_30') tiene una tasa de conversión un 1.32% más alta que la versión de tratamiento ('gate_40').\n",
    "\n",
    "La probabilidad es aproximadamente 91.25%, lo que sugiere que hay una alta probabilidad de detectar la diferencia si realmente existe.\n",
    "\n",
    "Basándonos en los resultados, podríamos concluir que, pasado un día, la versión de control 'gate_30' tiene un rendimiento mejor que la versión de tratamiento 'gate_40' en términos de la tasa de conversión. La tasa de conversión más alta está en el grupo de control, así como su probabilidad, por lo que se respalda la conclusión de que la versión 'gate_30' es más efectiva en este aspecto."
   ]
  },
  {
   "cell_type": "markdown",
   "id": "37072641",
   "metadata": {},
   "source": [
    "### Testeo para Retention_7"
   ]
  },
  {
   "cell_type": "code",
   "execution_count": 99,
   "id": "d2ef0002",
   "metadata": {},
   "outputs": [
    {
     "data": {
      "text/plain": [
       "8502"
      ]
     },
     "execution_count": 99,
     "metadata": {},
     "output_type": "execute_result"
    }
   ],
   "source": [
    "# selecciono grupos\n",
    "con_gate_30 = data[data.version=='gate_30']['retention_7'].sum()   # muestra del tratamiento\n",
    "con_gate_30"
   ]
  },
  {
   "cell_type": "code",
   "execution_count": 100,
   "id": "0fbee110",
   "metadata": {},
   "outputs": [
    {
     "data": {
      "text/plain": [
       "8279"
      ]
     },
     "execution_count": 100,
     "metadata": {},
     "output_type": "execute_result"
    }
   ],
   "source": [
    "con_gate_40 = data[data.version=='gate_40']['retention_7'].sum()   # muestra del tratamiento\n",
    "con_gate_40"
   ]
  },
  {
   "cell_type": "code",
   "execution_count": 101,
   "id": "bc7eb22f",
   "metadata": {},
   "outputs": [
    {
     "data": {
      "text/plain": [
       "'Tasas conversion: Control: 0.19020134228187918, Test: 0.18200004396667327'"
      ]
     },
     "execution_count": 101,
     "metadata": {},
     "output_type": "execute_result"
    }
   ],
   "source": [
    "impr_gate_30, con_gate_30= 44700, 8502\n",
    "impr_gate_40, con_gate_40= 45489, 8279\n",
    "\n",
    "#tasas de conversion.\n",
    "\n",
    "CR_control = con_gate_30/impr_gate_30\n",
    "CR_trat = con_gate_40/impr_gate_40\n",
    "\n",
    "f'Tasas conversion: Control: {CR_control}, Test: {CR_trat}'"
   ]
  },
  {
   "cell_type": "code",
   "execution_count": 102,
   "id": "8478ba03",
   "metadata": {},
   "outputs": [],
   "source": [
    "a_C, b_C = 1+con_gate_30, 1+impr_gate_30-con_gate_30    # alpha de control y beta de control\n",
    "\n",
    "a_T, b_T = 1+con_gate_40, 1+impr_gate_40-con_gate_40    # alpha de testeo y beta de testeo\n",
    "\n",
    "\n",
    "beta2_control = beta(a_C, b_C)\n",
    "\n",
    "beta2_test = beta(a_T, b_T)"
   ]
  },
  {
   "cell_type": "code",
   "execution_count": 103,
   "id": "a01aa891",
   "metadata": {},
   "outputs": [
    {
     "data": {
      "text/plain": [
       "(0.19021520289919913, 0.18201402475214878)"
      ]
     },
     "execution_count": 103,
     "metadata": {},
     "output_type": "execute_result"
    }
   ],
   "source": [
    "beta2_control.mean(), beta2_test.mean() "
   ]
  },
  {
   "cell_type": "code",
   "execution_count": 104,
   "id": "76679936",
   "metadata": {},
   "outputs": [],
   "source": [
    "x = np.linspace(0.17, 0.20, 1000)    # espaciado lineal\n",
    "\n",
    "def plot(betas, nombres):\n",
    "    \n",
    "    for bet, nom in zip(betas, nombres):\n",
    "        \n",
    "        y=bet.pdf(x)\n",
    "        y_media=bet.mean()\n",
    "        y_std=bet.std()\n",
    "        \n",
    "        plt.plot(x, y, label='{}, tasa de conv: {:.6f} $\\pm$ {:.10f}'.format(nom, y_media, y_std))\n",
    "        plt.yticks([])\n",
    "        \n",
    "    plt.legend()\n",
    "    plt.show();"
   ]
  },
  {
   "cell_type": "code",
   "execution_count": 106,
   "id": "5a3f2bed",
   "metadata": {},
   "outputs": [
    {
     "data": {
      "image/png": "[encoded data removed]",
      "text/plain": [
       "<Figure size 640x480 with 1 Axes>"
      ]
     },
     "metadata": {},
     "output_type": "display_data"
    }
   ],
   "source": [
    "plot([beta2_control, beta2_test], ['Control', 'Testeo'])"
   ]
  },
  {
   "cell_type": "code",
   "execution_count": 107,
   "id": "6111a5c4",
   "metadata": {},
   "outputs": [
    {
     "data": {
      "text/plain": [
       "0.04311526114658881"
      ]
     },
     "execution_count": 107,
     "metadata": {},
     "output_type": "execute_result"
    }
   ],
   "source": [
    "salto2 = (beta2_control.mean() - beta2_test.mean())/beta2_control.mean()\n",
    "salto2"
   ]
  },
  {
   "cell_type": "code",
   "execution_count": 109,
   "id": "d831a6a4",
   "metadata": {},
   "outputs": [
    {
     "data": {
      "text/plain": [
       "0.9887346805864391"
      ]
     },
     "execution_count": 109,
     "metadata": {},
     "output_type": "execute_result"
    }
   ],
   "source": [
    "prob2 = 1 - beta2_control.cdf(0.186)\n",
    "prob2"
   ]
  },
  {
   "cell_type": "code",
   "execution_count": 110,
   "id": "3222a971",
   "metadata": {},
   "outputs": [
    {
     "data": {
      "text/plain": [
       "'El control aumenta la tasa de conversion en un 4.31%, con una probabilidad del 98.87%'"
      ]
     },
     "execution_count": 110,
     "metadata": {},
     "output_type": "execute_result"
    }
   ],
   "source": [
    "'''El control aumenta la tasa de conversion en un {:2.2f}%, con una probabilidad del {:2.2f}%'''.format(salto2*100, prob2*100)"
   ]
  },
  {
   "cell_type": "raw",
   "id": "a6466d7d",
   "metadata": {},
   "source": [
    "El salto es aproximadamente 4.31%, lo que sugiere que la versión de control ('gate_30') tiene una tasa de conversión un 4.31% más alta que la versión de tratamiento ('gate_40').\n",
    "\n",
    "La probabilidad es aproximadamente 98.87%, lo que sugiere que hay una alta probabilidad de detectar la diferencia si realmente existe.\n",
    "\n",
    "Basándonos en los resultados, podríamos concluir que, pasados siete días, la versión de control 'gate_30' tiene un rendimiento mejor que la versión de tratamiento 'gate_40' en términos de la tasa de conversión. La tasa de conversión más alta está en el grupo de control, así como su probabilidad, por lo que se respalda la conclusión de que la versión 'gate_30' es más efectiva en este aspecto."
   ]
  }
 ],
 "metadata": {
  "finalized": {
   "timestamp": 1642857010293,
   "trusted": true
  },
  "kernelspec": {
   "display_name": "clase",
   "language": "python",
   "name": "clase"
  },
  "language_info": {
   "codemirror_mode": {
    "name": "ipython",
    "version": 3
   },
   "file_extension": ".py",
   "mimetype": "text/x-python",
   "name": "python",
   "nbconvert_exporter": "python",
   "pygments_lexer": "ipython3",
   "version": "3.10.13"
  },
  "toc": {
   "base_numbering": 1,
   "nav_menu": {},
   "number_sections": true,
   "sideBar": true,
   "skip_h1_title": false,
   "title_cell": "Table of Contents",
   "title_sidebar": "Contents",
   "toc_cell": true,
   "toc_position": {},
   "toc_section_display": true,
   "toc_window_display": false
  },
  "varInspector": {
   "cols": {
    "lenName": 16,
    "lenType": 16,
    "lenVar": 40
   },
   "kernels_config": {
    "python": {
     "delete_cmd_postfix": "",
     "delete_cmd_prefix": "del ",
     "library": "var_list.py",
     "varRefreshCmd": "print(var_dic_list())"
    },
    "r": {
     "delete_cmd_postfix": ") ",
     "delete_cmd_prefix": "rm(",
     "library": "var_list.r",
     "varRefreshCmd": "cat(var_dic_list()) "
    }
   },
   "types_to_exclude": [
    "module",
    "function",
    "builtin_function_or_method",
    "instance",
    "_Feature"
   ],
   "window_display": false
  }
 },
 "nbformat": 4,
 "nbformat_minor": 5
}
