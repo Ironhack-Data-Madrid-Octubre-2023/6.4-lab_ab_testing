{
 "cells": [
  {
   "cell_type": "markdown",
   "id": "angry-pearl",
   "metadata": {
    "toc": true
   },
   "source": [
    "<h1>Table of Contents<span class=\"tocSkip\"></span></h1>\n",
    "<div class=\"toc\"><ul class=\"toc-item\"><li><span><a href=\"#AB-Testing\" data-toc-modified-id=\"AB-Testing-1\"><span class=\"toc-item-num\">1&nbsp;&nbsp;</span>AB-Testing</a></span></li></ul></div>"
   ]
  },
  {
   "cell_type": "markdown",
   "id": "c92ba6e0",
   "metadata": {},
   "source": [
    "# AB-Testing\n",
    "\n",
    "![cats](images/cats.jpeg)\n",
    "\n",
    "\n",
    "Imaginad que somos los cientificos de datos de la empresa de videojuegos Tactile Entertainment. Los desarrolladores del juego Cookie Cats pretenden introducir un cambio en el juego para aumentar la retencion de los jugadores. En cierto nivel del juego los jugadores se encuentran una puerta que les obliga a esperar o a pagar la app. Actualmente la puerta se encuentra en nivel 30 y se pretende pasar al nivel 40, para comprobar la retencion a 1 y 7 dias. Antes de realizar el cambio definitivo en el juego se raliza un test AB.\n",
    "\n",
    "Los datos estan alojados en `data/cookie_cats.csv`. Nuestro grupo de control sera la version actual `gate_30` y el grupo de tratamiento sera la version `gate_40`. Debemos realizar el test para 1 dia de retencion `retention_1` y para 7 dias `retention_7`."
   ]
  },
  {
   "cell_type": "code",
   "execution_count": 38,
   "id": "ac3b2f52",
   "metadata": {},
   "outputs": [],
   "source": [
    "# librerias\n",
    "\n",
    "import pandas as pd\n",
    "import numpy as np\n",
    "\n",
    "from statsmodels.stats.proportion import proportions_ztest, proportion_confint\n",
    "from scipy.stats import norm, sem, beta\n",
    "\n",
    "import pylab as plt\n"
   ]
  },
  {
   "cell_type": "code",
   "execution_count": 39,
   "id": "7fe515c2",
   "metadata": {},
   "outputs": [
    {
     "data": {
      "text/html": [
       "<div>\n",
       "<style scoped>\n",
       "    .dataframe tbody tr th:only-of-type {\n",
       "        vertical-align: middle;\n",
       "    }\n",
       "\n",
       "    .dataframe tbody tr th {\n",
       "        vertical-align: top;\n",
       "    }\n",
       "\n",
       "    .dataframe thead th {\n",
       "        text-align: right;\n",
       "    }\n",
       "</style>\n",
       "<table border=\"1\" class=\"dataframe\">\n",
       "  <thead>\n",
       "    <tr style=\"text-align: right;\">\n",
       "      <th></th>\n",
       "      <th>userid</th>\n",
       "      <th>version</th>\n",
       "      <th>sum_gamerounds</th>\n",
       "      <th>retention_1</th>\n",
       "      <th>retention_7</th>\n",
       "    </tr>\n",
       "  </thead>\n",
       "  <tbody>\n",
       "    <tr>\n",
       "      <th>0</th>\n",
       "      <td>116</td>\n",
       "      <td>gate_30</td>\n",
       "      <td>3</td>\n",
       "      <td>False</td>\n",
       "      <td>False</td>\n",
       "    </tr>\n",
       "    <tr>\n",
       "      <th>1</th>\n",
       "      <td>337</td>\n",
       "      <td>gate_30</td>\n",
       "      <td>38</td>\n",
       "      <td>True</td>\n",
       "      <td>False</td>\n",
       "    </tr>\n",
       "    <tr>\n",
       "      <th>2</th>\n",
       "      <td>377</td>\n",
       "      <td>gate_40</td>\n",
       "      <td>165</td>\n",
       "      <td>True</td>\n",
       "      <td>False</td>\n",
       "    </tr>\n",
       "    <tr>\n",
       "      <th>3</th>\n",
       "      <td>483</td>\n",
       "      <td>gate_40</td>\n",
       "      <td>1</td>\n",
       "      <td>False</td>\n",
       "      <td>False</td>\n",
       "    </tr>\n",
       "    <tr>\n",
       "      <th>4</th>\n",
       "      <td>488</td>\n",
       "      <td>gate_40</td>\n",
       "      <td>179</td>\n",
       "      <td>True</td>\n",
       "      <td>True</td>\n",
       "    </tr>\n",
       "  </tbody>\n",
       "</table>\n",
       "</div>"
      ],
      "text/plain": [
       "   userid  version  sum_gamerounds  retention_1  retention_7\n",
       "0     116  gate_30               3        False        False\n",
       "1     337  gate_30              38         True        False\n",
       "2     377  gate_40             165         True        False\n",
       "3     483  gate_40               1        False        False\n",
       "4     488  gate_40             179         True         True"
      ]
     },
     "execution_count": 39,
     "metadata": {},
     "output_type": "execute_result"
    }
   ],
   "source": [
    "# datos\n",
    "\n",
    "game = pd.read_csv('data/cookie_cats.csv')\n",
    "game.head()"
   ]
  },
  {
   "cell_type": "code",
   "execution_count": 4,
   "id": "7066eeee",
   "metadata": {},
   "outputs": [
    {
     "data": {
      "text/plain": [
       "gate_40    45489\n",
       "gate_30    44700\n",
       "Name: version, dtype: int64"
      ]
     },
     "execution_count": 4,
     "metadata": {},
     "output_type": "execute_result"
    }
   ],
   "source": [
    "game['version'].value_counts()"
   ]
  },
  {
   "cell_type": "code",
   "execution_count": 8,
   "id": "59b5b05e",
   "metadata": {},
   "outputs": [
    {
     "data": {
      "text/plain": [
       "version  retention_1\n",
       "gate_30  False          24666\n",
       "         True           20034\n",
       "gate_40  False          25370\n",
       "         True           20119\n",
       "dtype: int64"
      ]
     },
     "execution_count": 8,
     "metadata": {},
     "output_type": "execute_result"
    }
   ],
   "source": [
    "# retention_1\n",
    "\n",
    "game.groupby(['version', 'retention_1']).size()"
   ]
  },
  {
   "cell_type": "code",
   "execution_count": 17,
   "id": "fe194170",
   "metadata": {},
   "outputs": [
    {
     "data": {
      "text/plain": [
       "version  retention_7\n",
       "gate_30  False          36198\n",
       "         True            8502\n",
       "gate_40  False          37210\n",
       "         True            8279\n",
       "dtype: int64"
      ]
     },
     "execution_count": 17,
     "metadata": {},
     "output_type": "execute_result"
    }
   ],
   "source": [
    "# retention_7 \n",
    "\n",
    "game.groupby(['version', 'retention_7']).size()"
   ]
  },
  {
   "cell_type": "code",
   "execution_count": 19,
   "id": "f2e6147a",
   "metadata": {},
   "outputs": [
    {
     "name": "stdout",
     "output_type": "stream",
     "text": [
      "retention_1:  Tasas conversion: Control: 0.4481879194630872, Test: 0.44228274967574577\n",
      "retention_7:  Tasas conversion: Control: 0.19020134228187918, Test: 0.18200004396667327\n"
     ]
    }
   ],
   "source": [
    "# transformacion\n",
    "\n",
    "# retention_1\n",
    "\n",
    "imps_ctrl, convs_ctrl = 44700, 20034\n",
    "\n",
    "imps_test, convs_test = 45489, 20119\n",
    "\n",
    "\n",
    "CR_ctrl = convs_ctrl / imps_ctrl\n",
    "CR_test = convs_test / imps_test\n",
    "\n",
    "print('retention_1: ', f'Tasas conversion: Control: {CR_ctrl}, Test: {CR_test}')\n",
    "\n",
    "# retention_7\n",
    "\n",
    "imps_ctrl7, convs_ctrl7 = 44700, 8502\n",
    "\n",
    "imps_test7, convs_test7 = 45489, 8279\n",
    "\n",
    "\n",
    "CR_ctrl7 = convs_ctrl7 / imps_ctrl7\n",
    "CR_test7 = convs_test7 / imps_test7\n",
    "\n",
    "print('retention_7: ', f'Tasas conversion: Control: {CR_ctrl7}, Test: {CR_test7}')\n",
    "\n"
   ]
  },
  {
   "cell_type": "code",
   "execution_count": 20,
   "id": "38f422cb",
   "metadata": {},
   "outputs": [],
   "source": [
    "# muestreo\n",
    "\n",
    "# retention_1 \n",
    "\n",
    "a_C, b_C = 1 + convs_ctrl, 1 + imps_ctrl - convs_ctrl\n",
    "a_T, b_T = 1 + convs_test, 1 + imps_test - convs_test\n",
    "\n",
    "# retention_7\n",
    "\n",
    "a_C7, b_C7 = 1 + convs_ctrl7, 1 + imps_ctrl7 - convs_ctrl7\n",
    "a_T7, b_T7 = 1 + convs_test7, 1 + imps_test7 - convs_test7\n"
   ]
  },
  {
   "cell_type": "code",
   "execution_count": 37,
   "id": "5b90c429",
   "metadata": {},
   "outputs": [
    {
     "data": {
      "text/plain": [
       "(0.44819023757326293, 0.44228528719966587)"
      ]
     },
     "execution_count": 37,
     "metadata": {},
     "output_type": "execute_result"
    }
   ],
   "source": [
    "# testeo para retention_1\n",
    "\n",
    "beta_control = beta(a_C, b_C)\n",
    "beta_test = beta(a_T, b_T)\n",
    "\n",
    "beta_control.mean(), beta_test.mean()"
   ]
  },
  {
   "cell_type": "code",
   "execution_count": 21,
   "id": "a048a711",
   "metadata": {},
   "outputs": [
    {
     "data": {
      "text/plain": [
       "(0.19021520289919913, 0.18201402475214878)"
      ]
     },
     "execution_count": 21,
     "metadata": {},
     "output_type": "execute_result"
    }
   ],
   "source": [
    "# testeo para retention_7\n",
    "\n",
    "beta_control7 = beta(a_C7, b_C7)\n",
    "beta_test7 = beta(a_T7, b_T7)\n",
    "\n",
    "beta_control7.mean(), beta_test7.mean()"
   ]
  },
  {
   "cell_type": "code",
   "execution_count": 27,
   "id": "80b474ca",
   "metadata": {},
   "outputs": [
    {
     "data": {
      "image/png": "[encoded data removed]",
      "text/plain": [
       "<Figure size 640x480 with 1 Axes>"
      ]
     },
     "metadata": {},
     "output_type": "display_data"
    }
   ],
   "source": [
    "# retention_1\n",
    "\n",
    "x=np.linspace(0.43,0.48, 100)\n",
    "def plot(betas, nombres):\n",
    "    for bet, nom in zip(betas, nombres):\n",
    "        y=bet.pdf(x)\n",
    "        y_media=bet.mean()\n",
    "        y_std=bet.std()\n",
    "        plt.plot(x, y, label='{}, tasa de conv: {:.2f} $\\pm$ {:.4f}'.format(nom, y_media, y_std))\n",
    "        plt.yticks([])\n",
    "    plt.legend()\n",
    "    plt.show();\n",
    "\n",
    "plot([beta_control, beta_test], ['Control', 'Testeo'])"
   ]
  },
  {
   "cell_type": "code",
   "execution_count": 30,
   "id": "eb9c41b9",
   "metadata": {},
   "outputs": [
    {
     "data": {
      "image/png": "[encoded data removed]",
      "text/plain": [
       "<Figure size 640x480 with 1 Axes>"
      ]
     },
     "metadata": {},
     "output_type": "display_data"
    }
   ],
   "source": [
    "# retention_7\n",
    "\n",
    "x=np.linspace(0.17,0.20, 100)\n",
    "def plot(betas, nombres):\n",
    "    for bet, nom in zip(betas, nombres):\n",
    "        y=bet.pdf(x)\n",
    "        y_media=bet.mean()\n",
    "        y_std=bet.std()\n",
    "        plt.plot(x, y, label='{}, tasa de conv: {:.2f} $\\pm$ {:.4f}'.format(nom, y_media, y_std))\n",
    "        plt.yticks([])\n",
    "    plt.legend()\n",
    "    plt.show();\n",
    "\n",
    "plot([beta_control7, beta_test7], ['Control', 'Testeo'])"
   ]
  },
  {
   "cell_type": "code",
   "execution_count": 40,
   "id": "29fdef1d",
   "metadata": {},
   "outputs": [
    {
     "data": {
      "text/plain": [
       "0.013175098158249857"
      ]
     },
     "execution_count": 40,
     "metadata": {},
     "output_type": "execute_result"
    }
   ],
   "source": [
    "# retention_1\n",
    "\n",
    "salto = (beta_control.mean() - beta_test.mean())/beta_control.mean()\n",
    "salto"
   ]
  },
  {
   "cell_type": "code",
   "execution_count": 41,
   "id": "7d3ae1a8",
   "metadata": {},
   "outputs": [
    {
     "data": {
      "text/plain": [
       "0.04311526114658881"
      ]
     },
     "execution_count": 41,
     "metadata": {},
     "output_type": "execute_result"
    }
   ],
   "source": [
    "# retention_7\n",
    "\n",
    "salto = (beta_control7.mean() - beta_test7.mean())/beta_control7.mean()\n",
    "salto"
   ]
  },
  {
   "cell_type": "code",
   "execution_count": 35,
   "id": "33192612",
   "metadata": {},
   "outputs": [
    {
     "data": {
      "text/plain": [
       "0.962793974846091"
      ]
     },
     "execution_count": 35,
     "metadata": {},
     "output_type": "execute_result"
    }
   ],
   "source": [
    "# retention_1\n",
    "\n",
    "bayes.calc_prob(beta_control, beta_test)"
   ]
  },
  {
   "cell_type": "code",
   "execution_count": 36,
   "id": "e665a31c",
   "metadata": {},
   "outputs": [
    {
     "data": {
      "text/plain": [
       "0.9992226613159454"
      ]
     },
     "execution_count": 36,
     "metadata": {},
     "output_type": "execute_result"
    }
   ],
   "source": [
    "# retention_7\n",
    "\n",
    "bayes.calc_prob(beta_control7, beta_test7)"
   ]
  },
  {
   "cell_type": "code",
   "execution_count": null,
   "id": "cooked-magnet",
   "metadata": {},
   "outputs": [],
   "source": [
    "# conclusiones\n",
    "# Explica detalladamente las conclusiones obtenidas de. tu testeo.\n",
    "\n",
    "''' \n",
    "En el caso de retention_1 el test reduce la tasa de conversión\n",
    "en un 1.31% con una probabilidad de 0.96.\n",
    "\n",
    "En el caso de retention_7 el test reduce la tasa de conversión\n",
    "en un 4.31% con una probabilidad de 0.99. '''"
   ]
  }
 ],
 "metadata": {
  "finalized": {
   "timestamp": 1642857010293,
   "trusted": true
  },
  "kernelspec": {
   "display_name": "base",
   "language": "python",
   "name": "python3"
  },
  "language_info": {
   "codemirror_mode": {
    "name": "ipython",
    "version": 3
   },
   "file_extension": ".py",
   "mimetype": "text/x-python",
   "name": "python",
   "nbconvert_exporter": "python",
   "pygments_lexer": "ipython3",
   "version": "3.11.4"
  },
  "toc": {
   "base_numbering": 1,
   "nav_menu": {},
   "number_sections": true,
   "sideBar": true,
   "skip_h1_title": false,
   "title_cell": "Table of Contents",
   "title_sidebar": "Contents",
   "toc_cell": true,
   "toc_position": {},
   "toc_section_display": true,
   "toc_window_display": false
  },
  "varInspector": {
   "cols": {
    "lenName": 16,
    "lenType": 16,
    "lenVar": 40
   },
   "kernels_config": {
    "python": {
     "delete_cmd_postfix": "",
     "delete_cmd_prefix": "del ",
     "library": "var_list.py",
     "varRefreshCmd": "print(var_dic_list())"
    },
    "r": {
     "delete_cmd_postfix": ") ",
     "delete_cmd_prefix": "rm(",
     "library": "var_list.r",
     "varRefreshCmd": "cat(var_dic_list()) "
    }
   },
   "types_to_exclude": [
    "module",
    "function",
    "builtin_function_or_method",
    "instance",
    "_Feature"
   ],
   "window_display": false
  }
 },
 "nbformat": 4,
 "nbformat_minor": 5
}
