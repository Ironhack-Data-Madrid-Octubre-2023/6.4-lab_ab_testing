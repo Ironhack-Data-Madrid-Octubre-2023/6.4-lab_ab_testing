{
 "cells": [
  {
   "cell_type": "markdown",
   "id": "angry-pearl",
   "metadata": {
    "toc": true
   },
   "source": [
    "<h1>Table of Contents<span class=\"tocSkip\"></span></h1>\n",
    "<div class=\"toc\"><ul class=\"toc-item\"><li><span><a href=\"#AB-Testing\" data-toc-modified-id=\"AB-Testing-1\"><span class=\"toc-item-num\">1&nbsp;&nbsp;</span>AB-Testing</a></span></li></ul></div>"
   ]
  },
  {
   "cell_type": "markdown",
   "id": "c92ba6e0",
   "metadata": {},
   "source": [
    "# AB-Testing\n",
    "\n",
    "![cats](images/cats.jpeg)\n",
    "\n",
    "\n",
    "Imaginad que somos los cientificos de datos de la empresa de videojuegos Tactile Entertainment. Los desarrolladores del juego Cookie Cats pretenden introducir un cambio en el juego para aumentar la retencion de los jugadores. En cierto nivel del juego los jugadores se encuentran una puerta que les obliga a esperar o a pagar la app. Actualmente la puerta se encuentra en nivel 30 y se pretende pasar al nivel 40, para comprobar la retencion a 1 y 7 dias. Antes de realizar el cambio definitivo en el juego se raliza un test AB.\n",
    "\n",
    "Los datos estan alojados en `data/cookie_cats.csv`. Nuestro grupo de control sera la version actual `gate_30` y el grupo de tratamiento sera la version `gate_40`. Debemos realizar el test para 1 dia de retencion `retention_1` y para 7 dias `retention_7`."
   ]
  },
  {
   "cell_type": "code",
   "execution_count": 23,
   "id": "ac3b2f52",
   "metadata": {},
   "outputs": [],
   "source": [
    "# librerias\n",
    "import pandas as pd\n",
    "import numpy as np\n",
    "from statsmodels.stats.proportion import proportions_ztest, proportion_confint\n",
    "from scipy.stats import norm, sem\n",
    "from scipy.stats import beta\n",
    "import pylab as plt\n",
    "import bayes as bayes\n",
    "from scipy.stats import ttest_ind"
   ]
  },
  {
   "cell_type": "code",
   "execution_count": 4,
   "id": "7fe515c2",
   "metadata": {},
   "outputs": [
    {
     "data": {
      "text/html": [
       "<div>\n",
       "<style scoped>\n",
       "    .dataframe tbody tr th:only-of-type {\n",
       "        vertical-align: middle;\n",
       "    }\n",
       "\n",
       "    .dataframe tbody tr th {\n",
       "        vertical-align: top;\n",
       "    }\n",
       "\n",
       "    .dataframe thead th {\n",
       "        text-align: right;\n",
       "    }\n",
       "</style>\n",
       "<table border=\"1\" class=\"dataframe\">\n",
       "  <thead>\n",
       "    <tr style=\"text-align: right;\">\n",
       "      <th></th>\n",
       "      <th>userid</th>\n",
       "      <th>version</th>\n",
       "      <th>sum_gamerounds</th>\n",
       "      <th>retention_1</th>\n",
       "      <th>retention_7</th>\n",
       "    </tr>\n",
       "  </thead>\n",
       "  <tbody>\n",
       "    <tr>\n",
       "      <th>0</th>\n",
       "      <td>116</td>\n",
       "      <td>gate_30</td>\n",
       "      <td>3</td>\n",
       "      <td>False</td>\n",
       "      <td>False</td>\n",
       "    </tr>\n",
       "    <tr>\n",
       "      <th>1</th>\n",
       "      <td>337</td>\n",
       "      <td>gate_30</td>\n",
       "      <td>38</td>\n",
       "      <td>True</td>\n",
       "      <td>False</td>\n",
       "    </tr>\n",
       "    <tr>\n",
       "      <th>2</th>\n",
       "      <td>377</td>\n",
       "      <td>gate_40</td>\n",
       "      <td>165</td>\n",
       "      <td>True</td>\n",
       "      <td>False</td>\n",
       "    </tr>\n",
       "    <tr>\n",
       "      <th>3</th>\n",
       "      <td>483</td>\n",
       "      <td>gate_40</td>\n",
       "      <td>1</td>\n",
       "      <td>False</td>\n",
       "      <td>False</td>\n",
       "    </tr>\n",
       "    <tr>\n",
       "      <th>4</th>\n",
       "      <td>488</td>\n",
       "      <td>gate_40</td>\n",
       "      <td>179</td>\n",
       "      <td>True</td>\n",
       "      <td>True</td>\n",
       "    </tr>\n",
       "    <tr>\n",
       "      <th>...</th>\n",
       "      <td>...</td>\n",
       "      <td>...</td>\n",
       "      <td>...</td>\n",
       "      <td>...</td>\n",
       "      <td>...</td>\n",
       "    </tr>\n",
       "    <tr>\n",
       "      <th>90184</th>\n",
       "      <td>9999441</td>\n",
       "      <td>gate_40</td>\n",
       "      <td>97</td>\n",
       "      <td>True</td>\n",
       "      <td>False</td>\n",
       "    </tr>\n",
       "    <tr>\n",
       "      <th>90185</th>\n",
       "      <td>9999479</td>\n",
       "      <td>gate_40</td>\n",
       "      <td>30</td>\n",
       "      <td>False</td>\n",
       "      <td>False</td>\n",
       "    </tr>\n",
       "    <tr>\n",
       "      <th>90186</th>\n",
       "      <td>9999710</td>\n",
       "      <td>gate_30</td>\n",
       "      <td>28</td>\n",
       "      <td>True</td>\n",
       "      <td>False</td>\n",
       "    </tr>\n",
       "    <tr>\n",
       "      <th>90187</th>\n",
       "      <td>9999768</td>\n",
       "      <td>gate_40</td>\n",
       "      <td>51</td>\n",
       "      <td>True</td>\n",
       "      <td>False</td>\n",
       "    </tr>\n",
       "    <tr>\n",
       "      <th>90188</th>\n",
       "      <td>9999861</td>\n",
       "      <td>gate_40</td>\n",
       "      <td>16</td>\n",
       "      <td>False</td>\n",
       "      <td>False</td>\n",
       "    </tr>\n",
       "  </tbody>\n",
       "</table>\n",
       "<p>90189 rows × 5 columns</p>\n",
       "</div>"
      ],
      "text/plain": [
       "        userid  version  sum_gamerounds  retention_1  retention_7\n",
       "0          116  gate_30               3        False        False\n",
       "1          337  gate_30              38         True        False\n",
       "2          377  gate_40             165         True        False\n",
       "3          483  gate_40               1        False        False\n",
       "4          488  gate_40             179         True         True\n",
       "...        ...      ...             ...          ...          ...\n",
       "90184  9999441  gate_40              97         True        False\n",
       "90185  9999479  gate_40              30        False        False\n",
       "90186  9999710  gate_30              28         True        False\n",
       "90187  9999768  gate_40              51         True        False\n",
       "90188  9999861  gate_40              16        False        False\n",
       "\n",
       "[90189 rows x 5 columns]"
      ]
     },
     "execution_count": 4,
     "metadata": {},
     "output_type": "execute_result"
    }
   ],
   "source": [
    "# datos\n",
    "cookie = pd.read_csv('data/cookie_cats.csv')\n",
    "cookie"
   ]
  },
  {
   "cell_type": "code",
   "execution_count": 5,
   "id": "f2e6147a",
   "metadata": {},
   "outputs": [
    {
     "data": {
      "text/plain": [
       "3994"
      ]
     },
     "execution_count": 5,
     "metadata": {},
     "output_type": "execute_result"
    }
   ],
   "source": [
    "# transformacion\n",
    "'''en un principio pensaba eliminar las filas que correspondiesen a jugadores que no habían jugado ronda alguna\n",
    " pero después decidí no hacerlo pues no creo que cambie significativamente los resultados'''\n",
    "cookie['sum_gamerounds'].value_counts().get(0)"
   ]
  },
  {
   "cell_type": "code",
   "execution_count": null,
   "id": "e11e9440",
   "metadata": {},
   "outputs": [],
   "source": [
    "# hecho 'a mi manera' buscando en google"
   ]
  },
  {
   "cell_type": "code",
   "execution_count": 8,
   "id": "38f422cb",
   "metadata": {},
   "outputs": [],
   "source": [
    "# muestreo\n",
    "'''creo un dataframe control con los datos filtrados del grupo de control gate_30'''\n",
    "control = cookie[cookie['version'] == 'gate_30']\n",
    "'''creo un dataframe test  con los datos filtrados del grupo de testeo gate_40'''\n",
    "test = cookie[cookie['version'] == 'gate_40']"
   ]
  },
  {
   "cell_type": "code",
   "execution_count": 9,
   "id": "5b90c429",
   "metadata": {},
   "outputs": [],
   "source": [
    "# testeo para retention_1\n",
    "\n",
    "# para grupo control\n",
    "# numero de conversiones y no conversiones\n",
    "'''sumo todos los valores de la columna 'retention_1' del DataFrame control y obtengo el número total de \n",
    "jugadores que regresaron y jugaron 1 día después de la instalación.'''\n",
    "conversions_control_1 = control['retention_1'].sum()\n",
    "\n",
    "'''resto el número de conversiones y obtengo el número de jugadores que no regresaron para jugar 1 día \n",
    "después de la instalación.'''\n",
    "non_conversions_control_1 = control['retention_1'].count() - conversions_control_1\n",
    "\n",
    "#distribucion beta\n",
    "'''creo una distribución beta introduciendo el número de conversiones y no conversiones como parámetros. \n",
    " Añado 1 a cada parámetro para evitar errores de cálculo cuando el número de conversiones o no conversiones es 0.'''\n",
    "beta_control_1 = beta(conversions_control_1 + 1, non_conversions_control_1 + 1)\n",
    "\n",
    "# para test\n",
    "# numero de conversiones y no conversiones\n",
    "conversions_test_1 = test['retention_1'].sum()\n",
    "non_conversions_test_1 = test['retention_1'].count() - conversions_test_1\n",
    "\n",
    "#distribucion beta\n",
    "beta_test_1 = beta(conversions_test_1 + 1, non_conversions_test_1 + 1)\n",
    "\n",
    "#testeo retention_1\n",
    "'''calculo la probabilidad de que la tasa de retención a 1 día del grupo test sea mayor que la del \n",
    "grupo de control.'''\n",
    "prob_retention_1 = bayes.calc_prob(beta_test_1, beta_control_1)"
   ]
  },
  {
   "cell_type": "code",
   "execution_count": 20,
   "id": "8c53c377",
   "metadata": {
    "scrolled": true
   },
   "outputs": [
    {
     "data": {
      "text/plain": [
       "(0.44819023757326293, 0.44228528719966587)"
      ]
     },
     "execution_count": 20,
     "metadata": {},
     "output_type": "execute_result"
    }
   ],
   "source": [
    "beta_control_1.mean(), beta_test_1.mean()"
   ]
  },
  {
   "cell_type": "code",
   "execution_count": 10,
   "id": "a048a711",
   "metadata": {},
   "outputs": [],
   "source": [
    "# testeo para retention_7\n",
    "\n",
    "# control\n",
    "# Calcular el número de conversiones y no conversiones\n",
    "conversions_control_7 = control['retention_7'].sum()\n",
    "non_conversions_control_7 = control['retention_7'].count() - conversions_control_7\n",
    "#distribucion beta\n",
    "beta_control_7 = beta(conversions_control_7 + 1, non_conversions_control_7 + 1)\n",
    "\n",
    "# test\n",
    "# numero de conversiones y no conversiones\n",
    "conversions_test_7 = test['retention_7'].sum()\n",
    "non_conversions_test_7 = test['retention_7'].count() - conversions_test_7\n",
    "#distribucion beta\n",
    "beta_test_7 = beta(conversions_test_7 + 1, non_conversions_test_7 + 1)\n",
    "\n",
    "#testeo retention_7\n",
    "prob_retention_7 = bayes.calc_prob(beta_test_7, beta_control_7)"
   ]
  },
  {
   "cell_type": "code",
   "execution_count": 21,
   "id": "4e1db7fc",
   "metadata": {
    "scrolled": true
   },
   "outputs": [
    {
     "data": {
      "text/plain": [
       "(0.19021520289919913, 0.18201402475214878)"
      ]
     },
     "execution_count": 21,
     "metadata": {},
     "output_type": "execute_result"
    }
   ],
   "source": [
    "beta_control_7.mean(), beta_test_7.mean()"
   ]
  },
  {
   "cell_type": "code",
   "execution_count": 12,
   "id": "cooked-magnet",
   "metadata": {},
   "outputs": [
    {
     "name": "stdout",
     "output_type": "stream",
     "text": [
      "probabilidad de retencion a 1 día: 0.037206025180329845\n",
      "probabilidad de retencion a 7 días: 0.0007773386645759051\n"
     ]
    },
    {
     "data": {
      "text/plain": [
       "'un valor de probabilidad de 1 significa que estamos completamente seguros de que un evento ocurrirá, \\nmientras que un valor de 0 significa que estamos completamente seguros de que el evento no ocurrirá. \\nLos valores entre 0 y 1 representan grados de certeza. Por ejemplo, una probabilidad de 0.5 significa que \\ncreemos que el evento es igualmente probable que ocurra o no ocurra.'"
      ]
     },
     "execution_count": 12,
     "metadata": {},
     "output_type": "execute_result"
    }
   ],
   "source": [
    "# conclusiones\n",
    "\n",
    "print('probabilidad de retencion a 1 día:', prob_retention_1)\n",
    "print('probabilidad de retencion a 7 días:', prob_retention_7)\n",
    "\n",
    "\n",
    "# Explica detalladamente las conclusiones obtenidas de. tu testeo.\n",
    "'''un valor de probabilidad de 1 significa que estamos completamente seguros de que un evento ocurrirá, \n",
    "mientras que un valor de 0 significa que estamos completamente seguros de que el evento no ocurrirá. \n",
    "Los valores entre 0 y 1 representan grados de certeza. Por ejemplo, una probabilidad de 0.5 significa que \n",
    "creemos que el evento es igualmente probable que ocurra o no ocurra.'''"
   ]
  },
  {
   "cell_type": "code",
   "execution_count": null,
   "id": "6c58b138",
   "metadata": {},
   "outputs": [],
   "source": [
    "# siguiendo los pasos de los apuntes de clase"
   ]
  },
  {
   "cell_type": "code",
   "execution_count": 32,
   "id": "979fba67",
   "metadata": {},
   "outputs": [
    {
     "data": {
      "text/plain": [
       "gate_40    45489\n",
       "gate_30    44700\n",
       "Name: version, dtype: int64"
      ]
     },
     "execution_count": 32,
     "metadata": {},
     "output_type": "execute_result"
    }
   ],
   "source": [
    "cookie.version.value_counts()"
   ]
  },
  {
   "cell_type": "code",
   "execution_count": 33,
   "id": "ed78d641",
   "metadata": {},
   "outputs": [],
   "source": [
    "gate_40 = 45489\n",
    "gate_30 = 44700"
   ]
  },
  {
   "cell_type": "code",
   "execution_count": 34,
   "id": "37f9fddd",
   "metadata": {},
   "outputs": [],
   "source": [
    "gate_30_retention1 = cookie[(cookie['version'] == 'gate_30') & (cookie['retention_1'] == True)].shape[0]\n",
    "gate_40_retention1 = cookie[(cookie['version'] == 'gate_40') & (cookie['retention_1'] == True)].shape[0]\n",
    "gate_30_retention7 = cookie[(cookie['version'] == 'gate_30') & (cookie['retention_7'] == True)].shape[0]\n",
    "gate_40_retention7 = cookie[(cookie['version'] == 'gate_40') & (cookie['retention_7'] == True)].shape[0]"
   ]
  },
  {
   "cell_type": "code",
   "execution_count": 36,
   "id": "a02b5c46",
   "metadata": {},
   "outputs": [
    {
     "data": {
      "text/plain": [
       "'Tasas retencion: Control: 0.4481879194630872, Test: 0.44228274967574577'"
      ]
     },
     "execution_count": 36,
     "metadata": {},
     "output_type": "execute_result"
    }
   ],
   "source": [
    "# los datos son conocidos : impresiones y conversiones para test y control\n",
    "\n",
    "imps_ctrl, convs_ctrl = gate_30, gate_30_retention1  \n",
    "\n",
    "imps_test, convs_test = gate_40 , gate_40_retention1 \n",
    "\n",
    "\n",
    "CR_ctrl = convs_ctrl/imps_ctrl\n",
    "CR_test = convs_test/imps_test\n",
    "\n",
    "f'Tasas retencion: Control: {CR_ctrl}, Test: {CR_test}'"
   ]
  },
  {
   "cell_type": "code",
   "execution_count": 37,
   "id": "a8407797",
   "metadata": {},
   "outputs": [],
   "source": [
    "# a prioris\n",
    "\n",
    "a_C, b_C = 1+convs_ctrl, 1+imps_ctrl-convs_ctrl\n",
    "\n",
    "a_T, b_T = 1+convs_test, 1+imps_test-convs_test\n",
    "\n",
    "\n",
    "beta_control = beta(a_C, b_C)\n",
    "\n",
    "beta_test = beta(a_T, b_T)"
   ]
  },
  {
   "cell_type": "code",
   "execution_count": 39,
   "id": "4747e635",
   "metadata": {},
   "outputs": [
    {
     "data": {
      "text/plain": [
       "(0.44819023757326293, 0.44228528719966587)"
      ]
     },
     "execution_count": 39,
     "metadata": {},
     "output_type": "execute_result"
    }
   ],
   "source": [
    "beta_control.mean(), beta_test.mean()"
   ]
  },
  {
   "cell_type": "code",
   "execution_count": 40,
   "id": "42c4e324",
   "metadata": {},
   "outputs": [],
   "source": [
    "x=np.linspace(0.43, 0.47, 1000)\n",
    "\n",
    "def plot(betas, nombres):\n",
    "    \n",
    "    for bet, nom in zip(betas, nombres):\n",
    "        \n",
    "        y=bet.pdf(x)\n",
    "        y_media=bet.mean()\n",
    "        y_std=bet.std()\n",
    "        \n",
    "        plt.plot(x, y, label='{}, tasa de conv: {:.6f} $\\pm$ {:.10f}'.format(nom, y_media, y_std))\n",
    "        plt.yticks([])\n",
    "        \n",
    "    plt.legend()\n",
    "    plt.show();"
   ]
  },
  {
   "cell_type": "code",
   "execution_count": 41,
   "id": "5152d9d5",
   "metadata": {},
   "outputs": [
    {
     "data": {
      "image/png": "[encoded data removed]",
      "text/plain": [
       "<Figure size 640x480 with 1 Axes>"
      ]
     },
     "metadata": {},
     "output_type": "display_data"
    }
   ],
   "source": [
    "plot([beta_test, beta_control], ['Test', 'CON'])"
   ]
  },
  {
   "cell_type": "code",
   "execution_count": 42,
   "id": "39fa5a28",
   "metadata": {},
   "outputs": [],
   "source": [
    "# lo mismo para retention 7"
   ]
  },
  {
   "cell_type": "code",
   "execution_count": 43,
   "id": "fe6d05f4",
   "metadata": {},
   "outputs": [
    {
     "data": {
      "text/plain": [
       "'Tasas retencion: Control: 0.19020134228187918, Test: 0.18200004396667327'"
      ]
     },
     "execution_count": 43,
     "metadata": {},
     "output_type": "execute_result"
    }
   ],
   "source": [
    "# los datos son conocidos : impresiones y conversiones para test y control\n",
    "\n",
    "imps_ctrl, convs_ctrl = gate_30, gate_30_retention7  \n",
    "\n",
    "imps_test, convs_test = gate_40 , gate_40_retention7 \n",
    "\n",
    "\n",
    "CR_ctrl = convs_ctrl/imps_ctrl\n",
    "CR_test = convs_test/imps_test\n",
    "\n",
    "f'Tasas retencion: Control: {CR_ctrl}, Test: {CR_test}'"
   ]
  },
  {
   "cell_type": "code",
   "execution_count": 44,
   "id": "9bdd8c7b",
   "metadata": {},
   "outputs": [],
   "source": [
    "# a prioris\n",
    "\n",
    "a_C, b_C = 1+convs_ctrl, 1+imps_ctrl-convs_ctrl\n",
    "\n",
    "a_T, b_T = 1+convs_test, 1+imps_test-convs_test\n",
    "\n",
    "\n",
    "beta_control = beta(a_C, b_C)\n",
    "\n",
    "beta_test = beta(a_T, b_T)"
   ]
  },
  {
   "cell_type": "code",
   "execution_count": 45,
   "id": "ba57e5b7",
   "metadata": {},
   "outputs": [
    {
     "data": {
      "text/plain": [
       "(0.19021520289919913, 0.18201402475214878)"
      ]
     },
     "execution_count": 45,
     "metadata": {},
     "output_type": "execute_result"
    }
   ],
   "source": [
    "beta_control.mean(), beta_test.mean()"
   ]
  },
  {
   "cell_type": "code",
   "execution_count": 46,
   "id": "007b12a1",
   "metadata": {},
   "outputs": [],
   "source": [
    "x=np.linspace(0.17, 0.20, 1000)\n",
    "\n",
    "def plot(betas, nombres):\n",
    "    \n",
    "    for bet, nom in zip(betas, nombres):\n",
    "        \n",
    "        y=bet.pdf(x)\n",
    "        y_media=bet.mean()\n",
    "        y_std=bet.std()\n",
    "        \n",
    "        plt.plot(x, y, label='{}, tasa de conv: {:.6f} $\\pm$ {:.10f}'.format(nom, y_media, y_std))\n",
    "        plt.yticks([])\n",
    "        \n",
    "    plt.legend()\n",
    "    plt.show();"
   ]
  },
  {
   "cell_type": "code",
   "execution_count": 47,
   "id": "222d4a85",
   "metadata": {},
   "outputs": [
    {
     "data": {
      "image/png": "[encoded data removed]",
      "text/plain": [
       "<Figure size 640x480 with 1 Axes>"
      ]
     },
     "metadata": {},
     "output_type": "display_data"
    }
   ],
   "source": [
    "plot([beta_test, beta_control], ['Test', 'CON'])"
   ]
  },
  {
   "cell_type": "code",
   "execution_count": 48,
   "id": "8ec189be",
   "metadata": {},
   "outputs": [],
   "source": [
    "#ttest"
   ]
  },
  {
   "cell_type": "code",
   "execution_count": 49,
   "id": "8f432940",
   "metadata": {},
   "outputs": [
    {
     "data": {
      "text/plain": [
       "(1.7840979256519656, 0.07441111525563184)"
      ]
     },
     "execution_count": 49,
     "metadata": {},
     "output_type": "execute_result"
    }
   ],
   "source": [
    "# para la retención a 1 día\n",
    "stat_1, pvalue_1 = ttest_ind(control['retention_1'], test['retention_1'])\n",
    "stat_1, pvalue_1"
   ]
  },
  {
   "cell_type": "code",
   "execution_count": 50,
   "id": "5b33af51",
   "metadata": {},
   "outputs": [
    {
     "data": {
      "text/plain": [
       "'no hay diferencia significativa en la retencion a 1 dia entre el grupo test y el grupo control'"
      ]
     },
     "execution_count": 50,
     "metadata": {},
     "output_type": "execute_result"
    }
   ],
   "source": [
    "'''no hay diferencia significativa en la retencion a 1 dia entre el grupo test y el grupo control'''"
   ]
  },
  {
   "cell_type": "code",
   "execution_count": 51,
   "id": "63658505",
   "metadata": {},
   "outputs": [
    {
     "data": {
      "text/plain": [
       "(3.1644994996802778, 0.0015540151201088365)"
      ]
     },
     "execution_count": 51,
     "metadata": {},
     "output_type": "execute_result"
    }
   ],
   "source": [
    "# para la retención a 7 días\n",
    "stat_7, pvalue_7 = ttest_ind(control['retention_7'], test['retention_7'])\n",
    "stat_7, pvalue_7"
   ]
  },
  {
   "cell_type": "code",
   "execution_count": 52,
   "id": "909655c3",
   "metadata": {},
   "outputs": [
    {
     "data": {
      "text/plain": [
       "'hay diferencia significativa en la retencion a 1 dia entre el grupo test y el grupo control'"
      ]
     },
     "execution_count": 52,
     "metadata": {},
     "output_type": "execute_result"
    }
   ],
   "source": [
    "'''hay diferencia significativa en la retencion a 1 dia entre el grupo test y el grupo control'''"
   ]
  },
  {
   "cell_type": "code",
   "execution_count": 53,
   "id": "93e4f451",
   "metadata": {},
   "outputs": [
    {
     "data": {
      "text/plain": [
       "'pasar la la puerta del nivel 30 al nivel 40 no tiene un impacto significativo en la retención a 1 día, \\npero sí tiene un impacto significativo en la retención a 7 días'"
      ]
     },
     "execution_count": 53,
     "metadata": {},
     "output_type": "execute_result"
    }
   ],
   "source": [
    "# conclusión\n",
    "'''pasar la la puerta del nivel 30 al nivel 40 no tiene un impacto significativo en la retención a 1 día, \n",
    "pero sí tiene un impacto significativo en la retención a 7 días'''"
   ]
  },
  {
   "cell_type": "code",
   "execution_count": null,
   "id": "810d103b",
   "metadata": {},
   "outputs": [],
   "source": []
  }
 ],
 "metadata": {
  "finalized": {
   "timestamp": 1642857010293,
   "trusted": true
  },
  "kernelspec": {
   "display_name": "Python 3 (ipykernel)",
   "language": "python",
   "name": "python3"
  },
  "language_info": {
   "codemirror_mode": {
    "name": "ipython",
    "version": 3
   },
   "file_extension": ".py",
   "mimetype": "text/x-python",
   "name": "python",
   "nbconvert_exporter": "python",
   "pygments_lexer": "ipython3",
   "version": "3.11.3"
  },
  "toc": {
   "base_numbering": 1,
   "nav_menu": {},
   "number_sections": true,
   "sideBar": true,
   "skip_h1_title": false,
   "title_cell": "Table of Contents",
   "title_sidebar": "Contents",
   "toc_cell": true,
   "toc_position": {},
   "toc_section_display": true,
   "toc_window_display": false
  },
  "varInspector": {
   "cols": {
    "lenName": 16,
    "lenType": 16,
    "lenVar": 40
   },
   "kernels_config": {
    "python": {
     "delete_cmd_postfix": "",
     "delete_cmd_prefix": "del ",
     "library": "var_list.py",
     "varRefreshCmd": "print(var_dic_list())"
    },
    "r": {
     "delete_cmd_postfix": ") ",
     "delete_cmd_prefix": "rm(",
     "library": "var_list.r",
     "varRefreshCmd": "cat(var_dic_list()) "
    }
   },
   "types_to_exclude": [
    "module",
    "function",
    "builtin_function_or_method",
    "instance",
    "_Feature"
   ],
   "window_display": false
  }
 },
 "nbformat": 4,
 "nbformat_minor": 5
}
